{
 "cells": [
  {
   "cell_type": "markdown",
   "id": "40c2338a",
   "metadata": {},
   "source": [
    "## 1. Write a Python program to check if the given number is a Disarium Number?"
   ]
  },
  {
   "cell_type": "code",
   "execution_count": 32,
   "id": "4c8a5dfc",
   "metadata": {},
   "outputs": [
    {
     "name": "stdout",
     "output_type": "stream",
     "text": [
      "Yes\n"
     ]
    }
   ],
   "source": [
    "def calculateLength(n):  \n",
    "    length = 0;  \n",
    "    while(n != 0):  \n",
    "        length = length + 1;  \n",
    "        n = n//10;  \n",
    "    return length;\n",
    "def disarium_num(num):\n",
    "    try:\n",
    "        rem = sum = 0\n",
    "        length = calculateLength(num)\n",
    "        n=num\n",
    "        while num >0:\n",
    "            rem = num%10\n",
    "            sum = sum+int(rem**length)\n",
    "            num = num//10\n",
    "            length = length-1\n",
    "        if sum == n:\n",
    "            print(\"Yes\")\n",
    "        else:\n",
    "            print(\"No\")\n",
    "    except exceptions as e:\n",
    "        print(e)\n",
    "disarium_num(17)"
   ]
  },
  {
   "cell_type": "markdown",
   "id": "70324585",
   "metadata": {},
   "source": [
    "## 2. Write a Python program to print all disarium numbers between 1 to 100?"
   ]
  },
  {
   "cell_type": "code",
   "execution_count": 14,
   "id": "e2d5787d",
   "metadata": {},
   "outputs": [
    {
     "name": "stdout",
     "output_type": "stream",
     "text": [
      "0\n",
      "1\n",
      "2\n",
      "3\n",
      "4\n",
      "5\n",
      "6\n",
      "7\n",
      "8\n",
      "9\n",
      "89\n"
     ]
    }
   ],
   "source": [
    "def calculateLength(n):  \n",
    "    length = 0;  \n",
    "    while(n != 0):  \n",
    "        length = length + 1;  \n",
    "        n = n//10;  \n",
    "    return length;\n",
    "def disarium_nums(num):\n",
    "    try:\n",
    "        rem = sum = 0\n",
    "        length = calculateLength(num)\n",
    "        n=num\n",
    "        while num >0:\n",
    "            rem = num%10\n",
    "            sum = sum+int(rem**length)\n",
    "            num = num//10\n",
    "            length = length-1\n",
    "        if sum == n:\n",
    "            print(n)\n",
    "    except exceptions as e:\n",
    "        print(e)\n",
    "for i in range (0,101):\n",
    "    disarium_nums(i)\n",
    "    "
   ]
  },
  {
   "cell_type": "markdown",
   "id": "10f00dfb",
   "metadata": {},
   "source": [
    "## 3. Write a Python program to check if the given number is Happy Number?"
   ]
  },
  {
   "cell_type": "code",
   "execution_count": null,
   "id": "28526b64",
   "metadata": {},
   "outputs": [],
   "source": [
    "def isHappyNumber(num):    \n",
    "    rem = sum = 0    \n",
    "    while(num > 0):    \n",
    "        rem = num%10    \n",
    "        sum = sum + (rem*rem)    \n",
    "        num = num//10    \n",
    "    return sum\n",
    "\n",
    "num = 0;    \n",
    "result = num;\n",
    "            \n",
    "while(result != 1 and result != 4):    \n",
    "    result = isHappyNumber(result)    \n",
    "    \n",
    "#Happy number always ends with 1    \n",
    "if(result == 1):    \n",
    "    print(str(num) + \" is a happy number\");    \n",
    "#Unhappy number ends in a cycle of repeating numbers which contain 4    \n",
    "elif(result == 4):    \n",
    "    print(str(num) + \" is not a happy number\");\n",
    "    \n"
   ]
  },
  {
   "cell_type": "markdown",
   "id": "5f52281d",
   "metadata": {},
   "source": [
    "## 4. Write a Python program to print all happy numbers between 1 and 100?"
   ]
  },
  {
   "cell_type": "code",
   "execution_count": 13,
   "id": "538394dd",
   "metadata": {},
   "outputs": [
    {
     "name": "stdout",
     "output_type": "stream",
     "text": [
      "1 7 10 13 19 23 28 31 32 44 49 68 70 79 82 86 91 94 97 100 "
     ]
    }
   ],
   "source": [
    "def check_happy(number):\n",
    "    remainder = 0\n",
    "    happy_num = 0;    \n",
    "    while(number > 0):    \n",
    "        remainder = number%10;    \n",
    "        happy_num = happy_num + (remainder*remainder);    \n",
    "        number = number//10;\n",
    "    return happy_num;\n",
    "for i in range(1,100+1):\n",
    "    happy_num = i\n",
    "    while(happy_num != 1 and happy_num != 4):\n",
    "        happy_num = check_happy(happy_num)\n",
    "    if(happy_num == 1):\n",
    "        print(i,end=\" \")"
   ]
  },
  {
   "cell_type": "markdown",
   "id": "7ce79f51",
   "metadata": {},
   "source": [
    "## 5. Write a Python program to determine whether the given number is a Harshad Number?"
   ]
  },
  {
   "cell_type": "code",
   "execution_count": 31,
   "id": "6541f46c",
   "metadata": {},
   "outputs": [
    {
     "name": "stdout",
     "output_type": "stream",
     "text": [
      "121 is not a harshad number\n"
     ]
    }
   ],
   "source": [
    "num = 121;    \n",
    "rem = sum = 0;    \n",
    "     \n",
    "#Make a copy of num and store it in variable n    \n",
    "n = num;    \n",
    "     \n",
    "#Calculates sum of digits    \n",
    "while(num > 0):    \n",
    "    rem = num%10;    \n",
    "    sum = sum + rem;    \n",
    "    num = num//10;    \n",
    "     \n",
    "#Checks whether the number is divisible by the sum of digits    \n",
    "if(n%sum == 0):    \n",
    "    print(str(n) + \" is a harshad number\");    \n",
    "else:    \n",
    "    print(str(n) + \" is not a harshad number\");  "
   ]
  },
  {
   "cell_type": "markdown",
   "id": "fe71b1be",
   "metadata": {},
   "source": [
    "## 6. Write a Python program to print all pronic numbers between 1 and 100?"
   ]
  },
  {
   "cell_type": "code",
   "execution_count": 14,
   "id": "4ae80c65",
   "metadata": {},
   "outputs": [
    {
     "name": "stdout",
     "output_type": "stream",
     "text": [
      "Pronic numbers between 1 and 100: \n",
      "2\n",
      " \n",
      "6\n",
      " \n",
      "12\n",
      " \n",
      "20\n",
      " \n",
      "30\n",
      " \n",
      "42\n",
      " \n",
      "56\n",
      " \n",
      "72\n",
      " \n",
      "90\n",
      " \n"
     ]
    }
   ],
   "source": [
    "def isPronicNumber(num):    \n",
    "    flag = False;    \n",
    "        \n",
    "    for j in range(1, num+1):    \n",
    "        #Checks for pronic number by multiplying consecutive numbers    \n",
    "        if((j*(j+1)) == num):    \n",
    "            flag = True;    \n",
    "            break;    \n",
    "    return flag;    \n",
    "     \n",
    "#Displays pronic numbers between 1 and 100    \n",
    "print(\"Pronic numbers between 1 and 100: \");    \n",
    "for i in range(1, 101):    \n",
    "    if(isPronicNumber(i)):    \n",
    "        print(i),    \n",
    "        print(\" \"),    "
   ]
  }
 ],
 "metadata": {
  "kernelspec": {
   "display_name": "Python 3",
   "language": "python",
   "name": "python3"
  },
  "language_info": {
   "codemirror_mode": {
    "name": "ipython",
    "version": 3
   },
   "file_extension": ".py",
   "mimetype": "text/x-python",
   "name": "python",
   "nbconvert_exporter": "python",
   "pygments_lexer": "ipython3",
   "version": "3.8.8"
  }
 },
 "nbformat": 4,
 "nbformat_minor": 5
}
