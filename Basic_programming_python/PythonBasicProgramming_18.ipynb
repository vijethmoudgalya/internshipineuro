{
 "cells": [
  {
   "cell_type": "markdown",
   "id": "7a3d0cec",
   "metadata": {},
   "source": [
    "## Question 1\n",
    "**Create a function that takes a list of non-negative integers and strings and return a new list\n",
    "without the strings.**\n",
    "\n",
    "**Examples**\n",
    "\n",
    "**filter_list([1, 2, 'a', 'b']) ➞ [1, 2]**\n",
    "\n",
    "**filter_list([1, 'a', 'b', 0, 15]) ➞ [1, 0, 15]**\n",
    "\n",
    "**filter_list([1, 2, 'aasf', '1', '123', 123]) ➞ [1, 2, 123]**"
   ]
  },
  {
   "cell_type": "code",
   "execution_count": 6,
   "id": "b264bc93",
   "metadata": {},
   "outputs": [
    {
     "name": "stdout",
     "output_type": "stream",
     "text": [
      "[1, 2]\n"
     ]
    }
   ],
   "source": [
    "def list_filter(lis):\n",
    "    try:\n",
    "        newlis=[]\n",
    "        for i in lis:\n",
    "            if type(i)==int:\n",
    "                newlis.append(i)\n",
    "        print (newlis)\n",
    "    except Exception as e:\n",
    "        print(e)\n",
    "lis = [1,2,'a','b']\n",
    "list_filter(lis)"
   ]
  },
  {
   "cell_type": "markdown",
   "id": "10d6fe39",
   "metadata": {},
   "source": [
    "## Question 2\n",
    "\n",
    "**The 'Reverser' takes a string as input and returns that string in reverse order, with the\n",
    "opposite case.**\n",
    "\n",
    "**Examples**\n",
    "\n",
    "**reverse('Hello World') ➞ 'DLROw OLLEh'**\n",
    "\n",
    "**reverse('ReVeRsE') ➞ 'eSrEvEr'**\n",
    "\n",
    "**reverse('Radar') ➞ 'RADAr'**"
   ]
  },
  {
   "cell_type": "code",
   "execution_count": 9,
   "id": "0cc7acd3",
   "metadata": {},
   "outputs": [
    {
     "name": "stdout",
     "output_type": "stream",
     "text": [
      "DLROw OLLEh\n",
      "eSrEvEr\n",
      "RADAr\n"
     ]
    }
   ],
   "source": [
    "def reverse(str):\n",
    "    try:\n",
    "        str = str[::-1]\n",
    "        return str.swapcase()\n",
    "    except Exception as e:\n",
    "        print(e)\n",
    "print(reverse('Hello World'))\n",
    "print(reverse('ReVeRsE'))\n",
    "print(reverse('Radar'))"
   ]
  },
  {
   "cell_type": "markdown",
   "id": "a2650185",
   "metadata": {},
   "source": [
    "## Question 3\n",
    "**You can assign variables from lists like this:**\n",
    "\n",
    "**lst = [1, 2, 3, 4, 5, 6]**\n",
    "\n",
    "**first = lst[0]**\n",
    "\n",
    "**middle = lst[1:-1]**\n",
    "\n",
    "**last = lst[-1]**\n",
    "\n",
    "**print(first) ➞ outputs 1**\n",
    "\n",
    "**print(middle) ➞ outputs [2, 3, 4, 5]**\n",
    "\n",
    "**print(last) ➞ outputs 6**\n",
    "\n",
    "**With Python 3, you can assign variables from lists in a much more succinct way. Create\n",
    "variables first, middle and last from the given list using destructuring assignment\n",
    "(check the Resources tab for some examples), where:**\n",
    "\n",
    "**first ➞ 1**\n",
    "\n",
    "**middle ➞ [2, 3, 4, 5]**\n",
    "\n",
    "**last ➞ 6**\n",
    "\n",
    "Your task is to unpack the list writeyourcodehere into three variables, being first,\n",
    "middle, and last, with middle being everything in between the first and last element. Then\n",
    "print all three variables."
   ]
  },
  {
   "cell_type": "code",
   "execution_count": 5,
   "id": "96d6f442",
   "metadata": {},
   "outputs": [
    {
     "data": {
      "text/plain": [
       "1"
      ]
     },
     "execution_count": 5,
     "metadata": {},
     "output_type": "execute_result"
    }
   ],
   "source": [
    "lst = [1,2,3,4,5,6]\n",
    "first,*middle,last = lst\n",
    "first"
   ]
  },
  {
   "cell_type": "code",
   "execution_count": 2,
   "id": "721bd474",
   "metadata": {},
   "outputs": [
    {
     "data": {
      "text/plain": [
       "[2, 3, 4, 5]"
      ]
     },
     "execution_count": 2,
     "metadata": {},
     "output_type": "execute_result"
    }
   ],
   "source": [
    "middle"
   ]
  },
  {
   "cell_type": "code",
   "execution_count": 3,
   "id": "b655a10c",
   "metadata": {},
   "outputs": [
    {
     "data": {
      "text/plain": [
       "6"
      ]
     },
     "execution_count": 3,
     "metadata": {},
     "output_type": "execute_result"
    }
   ],
   "source": [
    "last"
   ]
  },
  {
   "cell_type": "markdown",
   "id": "c6f61c51",
   "metadata": {},
   "source": [
    "## Question 4\n",
    "**Write a function that calculates the factorial of a number recursively.**\n",
    "\n",
    "**Examples**\n",
    "\n",
    "**factorial(5) ➞ 120**\n",
    "\n",
    "**factorial(3) ➞ 6**\n",
    "\n",
    "**factorial(1) ➞ 1**\n",
    "\n",
    "**factorial(0) ➞ 1**"
   ]
  },
  {
   "cell_type": "code",
   "execution_count": 9,
   "id": "f598d324",
   "metadata": {},
   "outputs": [
    {
     "name": "stdout",
     "output_type": "stream",
     "text": [
      "Enter the Number to find Factorial5\n",
      "The Factorial of 5 is 120\n"
     ]
    }
   ],
   "source": [
    "def factorial(num):\n",
    "    try:\n",
    "        if num==0:\n",
    "            return 1\n",
    "        else:\n",
    "            return num * factorial(num-1)\n",
    "    except Exception as e:\n",
    "        print(e)\n",
    "num = int(input('Enter the Number to find Factorial'))\n",
    "print('The Factorial of {} is {}'.format(num,factorial(num)))"
   ]
  },
  {
   "cell_type": "markdown",
   "id": "72a013ae",
   "metadata": {},
   "source": [
    "## Question 5\n",
    "**Write a function that moves all elements of one type to the end of the list.**\n",
    "\n",
    "**Examples**\n",
    "\n",
    "**move_to_end([1, 3, 2, 4, 4, 1], 1) ➞ [3, 2, 4, 4, 1, 1]**\n",
    "\n",
    "**Move all the 1s to the end of the array.**\n",
    "\n",
    "**move_to_end([7, 8, 9, 1, 2, 3, 4], 9) ➞ [7, 8, 1, 2, 3, 4, 9]**\n",
    "\n",
    "**move_to_end(['a', 'a', 'a', 'b'], 'a') ➞ ['b', 'a', 'a', 'a']**"
   ]
  },
  {
   "cell_type": "code",
   "execution_count": 10,
   "id": "6b4cd0de",
   "metadata": {},
   "outputs": [],
   "source": [
    "def move_to_end(array, element):\n",
    "    try:\n",
    "        i = 0\n",
    "        j = len(array) - 1\n",
    "        while (i < j):\n",
    "            while (i < j and array[j] == element):\n",
    "                # decrement right pointer\n",
    "                j-=1\n",
    "            if (array[i] == element):\n",
    "\n",
    "                # swap the two elements\n",
    "                # in the array\n",
    "                array[i], array[j] = array[j] , array[i]\n",
    "\n",
    "            # increment left pointer\n",
    "            i += 1\n",
    "\n",
    "        # return the result\n",
    "        return array\n",
    "    except Exception as e:\n",
    "        print(e)"
   ]
  },
  {
   "cell_type": "code",
   "execution_count": 11,
   "id": "92442467",
   "metadata": {},
   "outputs": [
    {
     "data": {
      "text/plain": [
       "[4, 3, 2, 4, 1, 1]"
      ]
     },
     "execution_count": 11,
     "metadata": {},
     "output_type": "execute_result"
    }
   ],
   "source": [
    "move_to_end([1, 3, 2, 4, 4, 1], 1)"
   ]
  },
  {
   "cell_type": "code",
   "execution_count": 12,
   "id": "827d93fe",
   "metadata": {},
   "outputs": [
    {
     "data": {
      "text/plain": [
       "[7, 8, 4, 1, 2, 3, 9]"
      ]
     },
     "execution_count": 12,
     "metadata": {},
     "output_type": "execute_result"
    }
   ],
   "source": [
    "move_to_end([7, 8, 9, 1, 2, 3, 4], 9)"
   ]
  },
  {
   "cell_type": "code",
   "execution_count": 13,
   "id": "231d3d37",
   "metadata": {},
   "outputs": [
    {
     "data": {
      "text/plain": [
       "['b', 'a', 'a', 'a']"
      ]
     },
     "execution_count": 13,
     "metadata": {},
     "output_type": "execute_result"
    }
   ],
   "source": [
    "move_to_end(['a', 'a', 'a', 'b'], 'a')"
   ]
  },
  {
   "cell_type": "code",
   "execution_count": null,
   "id": "d00775f8",
   "metadata": {},
   "outputs": [],
   "source": []
  }
 ],
 "metadata": {
  "kernelspec": {
   "display_name": "Python 3",
   "language": "python",
   "name": "python3"
  },
  "language_info": {
   "codemirror_mode": {
    "name": "ipython",
    "version": 3
   },
   "file_extension": ".py",
   "mimetype": "text/x-python",
   "name": "python",
   "nbconvert_exporter": "python",
   "pygments_lexer": "ipython3",
   "version": "3.8.8"
  }
 },
 "nbformat": 4,
 "nbformat_minor": 5
}
