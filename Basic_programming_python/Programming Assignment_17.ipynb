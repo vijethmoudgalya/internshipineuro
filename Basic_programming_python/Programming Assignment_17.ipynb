{
 "cells": [
  {
   "cell_type": "markdown",
   "id": "c41bcec7",
   "metadata": {},
   "source": [
    "**Question1. Create a function that takes three arguments a, b, c and returns the sum of the numbers that are evenly divided by c from the range a, b inclusive.**\n",
    "\n",
    "Examples\n",
    "\n",
    "evenly_divisible(1, 10, 20) ➞ 0\n",
    "\n",
    "*# No number between 1 and 10 can be evenly divided by 20.\n",
    "\n",
    "evenly_divisible(1, 10, 2) ➞ 30\n",
    "\n",
    "*# 2 + 4 + 6 + 8 + 10 = 30\n",
    "\n",
    "evenly_divisible(1, 10, 3) ➞ 18\n",
    "\n",
    "*# 3 + 6 + 9 = 18"
   ]
  },
  {
   "cell_type": "code",
   "execution_count": 4,
   "id": "7eb4fcfe",
   "metadata": {},
   "outputs": [
    {
     "name": "stdout",
     "output_type": "stream",
     "text": [
      "-->  30\n"
     ]
    }
   ],
   "source": [
    "def evenly_divisible(a,b,c):\n",
    "    try:\n",
    "        sum = 0\n",
    "        for i in range(a-1,b+1,c):\n",
    "            sum = sum+i\n",
    "        if sum%c==0:\n",
    "            print(\"--> \",sum)\n",
    "        else:\n",
    "            print(\"--> 0\")\n",
    "    except Exception as e:\n",
    "        print(e)\n",
    "        \n",
    "evenly_divisible(1,10,2)"
   ]
  },
  {
   "cell_type": "markdown",
   "id": "7dd806a5",
   "metadata": {},
   "source": [
    "**Question2. Create a function that returns True if a given inequality expression is correct and False otherwise.**\n",
    "\n",
    "Examples\n",
    "\n",
    "correct_signs(\"3 < 7 < 11\") ➞ True\n",
    "\n",
    "correct_signs(\"13 > 44 > 33 > 1\") ➞ False\n",
    "\n",
    "correct_signs(\"1 < 2 < 6 < 9 > 3\") ➞ True\n"
   ]
  },
  {
   "cell_type": "code",
   "execution_count": 6,
   "id": "f3ce3c11",
   "metadata": {},
   "outputs": [
    {
     "data": {
      "text/plain": [
       "True"
      ]
     },
     "execution_count": 6,
     "metadata": {},
     "output_type": "execute_result"
    }
   ],
   "source": [
    "def correct_signs(inequality):\n",
    "    try:\n",
    "        return eval(inequality)\n",
    "    except Exception as e:\n",
    "        print(e)\n",
    "        \n",
    "correct_signs(\"3 < 7 < 11\")"
   ]
  },
  {
   "cell_type": "markdown",
   "id": "62c5afad",
   "metadata": {},
   "source": [
    "**Question3. Create a function that replaces all the vowels in a string with a specified character.**\n",
    "\n",
    "Examples\n",
    "\n",
    "replace_vowels(\"the aardvark\", \"#\") ➞ \"th# ##rdv#rk\"\n",
    "\n",
    "replace_vowels(\"minnie mouse\", \"?\") ➞ \"m?nn?? m??s?\"\n",
    "\n",
    "replace_vowels(\"shakespeare\", \"\") ➞ \"shksp**r\"\n"
   ]
  },
  {
   "cell_type": "code",
   "execution_count": 7,
   "id": "efea2d5f",
   "metadata": {},
   "outputs": [
    {
     "data": {
      "text/plain": [
       "'th# ##rdv#rk'"
      ]
     },
     "execution_count": 7,
     "metadata": {},
     "output_type": "execute_result"
    }
   ],
   "source": [
    "def replace_vowels(string, spl_char):\n",
    "    try:\n",
    "        vowels = 'aeiouAEIOU'\n",
    "        for i in vowels:\n",
    "            string = string.replace(i,spl_char)\n",
    "        return string\n",
    "    except Exception as e:\n",
    "        print(e)\n",
    "replace_vowels(\"the aardvark\", \"#\")\n"
   ]
  },
  {
   "cell_type": "markdown",
   "id": "74ab3e97",
   "metadata": {},
   "source": [
    "**Question4. Write a function that calculates the factorial of a number recursively.**\n",
    "\n",
    "Examples\n",
    "\n",
    "factorial(5) ➞ 120\n",
    "\n",
    "factorial(3) ➞ 6\n",
    "\n",
    "factorial(1) ➞ 1\n"
   ]
  },
  {
   "cell_type": "code",
   "execution_count": 9,
   "id": "5bc8c8c6",
   "metadata": {},
   "outputs": [
    {
     "data": {
      "text/plain": [
       "120"
      ]
     },
     "execution_count": 9,
     "metadata": {},
     "output_type": "execute_result"
    }
   ],
   "source": [
    "def factorial(num):\n",
    "    try:\n",
    "        if num==0:\n",
    "            return 1\n",
    "        else:\n",
    "            return num*factorial(num-1)\n",
    "    except Exception as e:\n",
    "        print(e)\n",
    "factorial(5)"
   ]
  },
  {
   "cell_type": "markdown",
   "id": "bcfe3b97",
   "metadata": {},
   "source": [
    "**Question 5 Hamming distance is the number of characters that differ between two strings.**\n",
    "\n",
    "To illustrate:\n",
    "\n",
    "String1: \"abcbba\"\n",
    "\n",
    "String2: \"abcbda\"\n",
    "\n",
    "Hamming Distance: 1 - \"b\" vs. \"d\" is the only difference.\n",
    "\n",
    "Create a function that computes the hamming distance between two strings.\n",
    "\n",
    "Examples\n",
    "\n",
    "hamming_distance(\"abcde\", \"bcdef\") ➞ 5\n",
    "\n",
    "hamming_distance(\"abcde\", \"abcde\") ➞ 0\n",
    "\n",
    "hamming_distance(\"strong\", \"strung\") ➞ 1\n"
   ]
  },
  {
   "cell_type": "code",
   "execution_count": 10,
   "id": "0199e16e",
   "metadata": {},
   "outputs": [
    {
     "data": {
      "text/plain": [
       "5"
      ]
     },
     "execution_count": 10,
     "metadata": {},
     "output_type": "execute_result"
    }
   ],
   "source": [
    "def hamming_distance(string1, string2):\n",
    "    try:\n",
    "        count = 0\n",
    "        i = 0\n",
    "        while i<len(string1):\n",
    "            if string1[i]!=string2[i]:\n",
    "                count = count+1\n",
    "            i = i+1\n",
    "        return count\n",
    "    except Exception as e:\n",
    "        print(e)\n",
    "hamming_distance(\"abcde\", \"bcdef\")"
   ]
  }
 ],
 "metadata": {
  "kernelspec": {
   "display_name": "Python 3",
   "language": "python",
   "name": "python3"
  },
  "language_info": {
   "codemirror_mode": {
    "name": "ipython",
    "version": 3
   },
   "file_extension": ".py",
   "mimetype": "text/x-python",
   "name": "python",
   "nbconvert_exporter": "python",
   "pygments_lexer": "ipython3",
   "version": "3.8.8"
  }
 },
 "nbformat": 4,
 "nbformat_minor": 5
}
