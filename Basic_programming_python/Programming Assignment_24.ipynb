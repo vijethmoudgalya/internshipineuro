{
 "cells": [
  {
   "cell_type": "markdown",
   "id": "98d9c193",
   "metadata": {},
   "source": [
    "## Question1\n",
    "\n",
    "Create a function that takes an integer and returns a list from 1 to the given number, where:\n",
    "1. If the number can be divided evenly by 4, amplify it by 10 (i.e. return 10 times the\n",
    "number).\n",
    "2. If the number cannot be divided evenly by 4, simply return the number.\n",
    "\n",
    "**Examples**\n",
    "\n",
    "amplify(4) ➞ [1, 2, 3, 40]\n",
    "\n",
    "amplify(3) ➞ [1, 2, 3]\n",
    "\n",
    "amplify(25) ➞ [1, 2, 3, 40, 5, 6, 7, 80, 9, 10, 11, 120, 13, 14, 15, 160,\n",
    "17, 18, 19, 200, 21, 22, 23, 240, 25]\n",
    "\n",
    "**Notes**\n",
    "\n",
    " The given integer will always be equal to or greater than 1.\n",
    "\n",
    " Include the number (see example above).\n",
    "\n",
    " To perform this problem with its intended purpose, try doing it with list\n",
    "comprehensions. If that's too difficult, just solve the challenge any way you can."
   ]
  },
  {
   "cell_type": "code",
   "execution_count": 3,
   "id": "a179ad82",
   "metadata": {},
   "outputs": [
    {
     "name": "stdout",
     "output_type": "stream",
     "text": [
      "[1, 2, 3, 40]\n"
     ]
    }
   ],
   "source": [
    "def amplify(n):\n",
    "    try:\n",
    "        return [i*10 if i % 4 == 0 else i for i in range(1,n+1) ]\n",
    "    except Exception as e:\n",
    "        print(e)\n",
    "print(amplify(4))"
   ]
  },
  {
   "cell_type": "code",
   "execution_count": 5,
   "id": "c4eb4aaf",
   "metadata": {},
   "outputs": [
    {
     "name": "stdout",
     "output_type": "stream",
     "text": [
      "[1, 2, 3]\n"
     ]
    }
   ],
   "source": [
    "print(amplify(3))"
   ]
  },
  {
   "cell_type": "code",
   "execution_count": 6,
   "id": "51eec166",
   "metadata": {},
   "outputs": [
    {
     "name": "stdout",
     "output_type": "stream",
     "text": [
      "[1, 2, 3, 40, 5, 6, 7, 80, 9, 10, 11, 120, 13, 14, 15, 160, 17, 18, 19, 200, 21, 22, 23, 240, 25]\n"
     ]
    }
   ],
   "source": [
    "print(amplify(25))"
   ]
  },
  {
   "cell_type": "markdown",
   "id": "9215a90c",
   "metadata": {},
   "source": [
    "## Question2\n",
    "\n",
    "Create a function that takes a list of numbers and return the number that's unique.\n",
    "\n",
    "**Examples**\n",
    "\n",
    "unique([3, 3, 3, 7, 3, 3]) ➞ 7\n",
    "\n",
    "unique([0, 0, 0.77, 0, 0]) ➞ 0.77\n",
    "\n",
    "unique([0, 1, 1, 1, 1, 1, 1, 1]) ➞ 0\n",
    "\n",
    "**Notes**\n",
    "\n",
    "Test cases will always have exactly one unique number while all others are the same."
   ]
  },
  {
   "cell_type": "code",
   "execution_count": 7,
   "id": "07884be9",
   "metadata": {},
   "outputs": [
    {
     "name": "stdout",
     "output_type": "stream",
     "text": [
      "7\n"
     ]
    }
   ],
   "source": [
    "def unique(lst):\n",
    "    try:\n",
    "        s = list(set(lst))# give us unique value\n",
    "        for i in s:\n",
    "            if lst.count(i) == 1:\n",
    "                return i\n",
    "    except Exception as e:\n",
    "        print(e)\n",
    "print(unique([3,3,3,7,3,3]))"
   ]
  },
  {
   "cell_type": "code",
   "execution_count": 8,
   "id": "7d83a6da",
   "metadata": {},
   "outputs": [
    {
     "name": "stdout",
     "output_type": "stream",
     "text": [
      "0.77\n"
     ]
    }
   ],
   "source": [
    "print(unique([0, 0, 0.77, 0, 0]))"
   ]
  },
  {
   "cell_type": "markdown",
   "id": "bd99a647",
   "metadata": {},
   "source": [
    "## Question3\n",
    "\n",
    "Your task is to create a Circle constructor that creates a circle with a radius provided by an\n",
    "argument. The circles constructed must have two getters getArea() (PIr^2) and\n",
    "getPerimeter() (2PI*r) which give both respective areas and perimeter (circumference).\n",
    "\n",
    "For help with this class, I have provided you with a Rectangle constructor which you can use\n",
    "as a base example.\n",
    "\n",
    "**Examples**\n",
    "\n",
    "circy = Circle(11)\n",
    "\n",
    "circy.getArea()\n",
    "\n",
    "#Should return 380.132711084365\n",
    "\n",
    "circy = Circle(4.44)\n",
    "\n",
    "circy.getPerimeter()\n",
    "\n",
    "#Should return 27.897342763877365\n",
    "\n",
    "**Notes**\n",
    "\n",
    "Round results up to the nearest integer."
   ]
  },
  {
   "cell_type": "code",
   "execution_count": 9,
   "id": "f61c9a5c",
   "metadata": {},
   "outputs": [],
   "source": [
    "class Circle():\n",
    "    def __init__(self, r):\n",
    "        self.radius = r\n",
    "\n",
    "    def getArea(self):\n",
    "        return round(self.radius**2*3.14)\n",
    "    \n",
    "    def getPerimeter(self):\n",
    "        return round(2*self.radius*3.14)"
   ]
  },
  {
   "cell_type": "code",
   "execution_count": 10,
   "id": "3bacc991",
   "metadata": {},
   "outputs": [
    {
     "data": {
      "text/plain": [
       "380"
      ]
     },
     "execution_count": 10,
     "metadata": {},
     "output_type": "execute_result"
    }
   ],
   "source": [
    "circy = Circle(11)\n",
    "circy.getArea()\n"
   ]
  },
  {
   "cell_type": "code",
   "execution_count": 11,
   "id": "2328c1ff",
   "metadata": {},
   "outputs": [
    {
     "data": {
      "text/plain": [
       "28"
      ]
     },
     "execution_count": 11,
     "metadata": {},
     "output_type": "execute_result"
    }
   ],
   "source": [
    "circy = Circle(4.44)\n",
    "circy.getPerimeter()"
   ]
  },
  {
   "cell_type": "markdown",
   "id": "e5e9d7b9",
   "metadata": {},
   "source": [
    "## Question4\n",
    "\n",
    "Create a function that takes a list of strings and return a list, sorted from shortest to longest.\n",
    "\n",
    "**Examples**\n",
    "\n",
    "sort_by_length(['Google', 'Apple', 'Microsoft'])\n",
    "➞ ['Apple', 'Google', 'Microsoft']\n",
    "\n",
    "sort_by_length(['Leonardo', 'Michelangelo', 'Raphael', 'Donatello'])\n",
    "➞ ['Raphael', 'Leonardo', 'Donatello', 'Michelangelo']\n",
    "\n",
    "sort_by_length(['Turing', 'Einstein', 'Jung'])\n",
    "➞ ['Jung', 'Turing', 'Einstein']\n",
    "\n",
    "**Notes**\n",
    "\n",
    "All test cases contain lists with strings of different lengths, so you won't have to deal with\n",
    "multiple strings of the same length."
   ]
  },
  {
   "cell_type": "code",
   "execution_count": 12,
   "id": "c19e7a38",
   "metadata": {},
   "outputs": [
    {
     "name": "stdout",
     "output_type": "stream",
     "text": [
      "['Raphael', 'Leonardo', 'Donatello', 'Michelangelo']\n"
     ]
    }
   ],
   "source": [
    "def sort_by_length(lst):\n",
    "    try:\n",
    "        return sorted(lst, key = len)\n",
    "    except Exception as e:\n",
    "        print(e)\n",
    "print(sort_by_length(['Leonardo', 'Michelangelo', 'Raphael', 'Donatello']))"
   ]
  },
  {
   "cell_type": "markdown",
   "id": "b9e74004",
   "metadata": {},
   "source": [
    "## Question5\n",
    "\n",
    "Create a function that validates whether three given integers form a Pythagorean triplet. The\n",
    "sum of the squares of the two smallest integers must equal the square of the largest number to\n",
    "be validated.\n",
    "\n",
    "**Examples*\n",
    "\n",
    "is_triplet(3, 4, 5) ➞ True\n",
    "#3² + 4² = 25\n",
    "#5² = 25\n",
    "\n",
    "is_triplet(13, 5, 12) ➞ True\n",
    "#5² + 12² = 169\n",
    "#13² = 169\n",
    "\n",
    "is_triplet(1, 2, 3) ➞ False\n",
    "#1² + 2² = 5\n",
    "#3² = 9\n",
    "\n",
    "**Notes**\n",
    "\n",
    "Numbers may not be given in a sorted order."
   ]
  },
  {
   "cell_type": "code",
   "execution_count": 15,
   "id": "635c3eab",
   "metadata": {},
   "outputs": [],
   "source": [
    "def is_triplet(a,b,c):\n",
    "    try:\n",
    "        lst = []\n",
    "        lst.extend((a,b,c))\n",
    "        lst = sorted(lst)\n",
    "\n",
    "        if lst[0]**2 + lst[1]**2 == lst[2]**2:\n",
    "            return True\n",
    "        else:\n",
    "            return False\n",
    "    except Exception as e:\n",
    "        print(e)"
   ]
  },
  {
   "cell_type": "code",
   "execution_count": 16,
   "id": "f82141e9",
   "metadata": {},
   "outputs": [
    {
     "name": "stdout",
     "output_type": "stream",
     "text": [
      "True\n"
     ]
    }
   ],
   "source": [
    "print(is_triplet(3, 4, 5))"
   ]
  },
  {
   "cell_type": "code",
   "execution_count": 18,
   "id": "89ab2e27",
   "metadata": {},
   "outputs": [
    {
     "name": "stdout",
     "output_type": "stream",
     "text": [
      "False\n"
     ]
    }
   ],
   "source": [
    "print(is_triplet(1, 2, 3))"
   ]
  },
  {
   "cell_type": "code",
   "execution_count": null,
   "id": "9756c923",
   "metadata": {},
   "outputs": [],
   "source": []
  }
 ],
 "metadata": {
  "kernelspec": {
   "display_name": "Python 3",
   "language": "python",
   "name": "python3"
  },
  "language_info": {
   "codemirror_mode": {
    "name": "ipython",
    "version": 3
   },
   "file_extension": ".py",
   "mimetype": "text/x-python",
   "name": "python",
   "nbconvert_exporter": "python",
   "pygments_lexer": "ipython3",
   "version": "3.8.8"
  }
 },
 "nbformat": 4,
 "nbformat_minor": 5
}
