{
 "cells": [
  {
   "cell_type": "markdown",
   "id": "9557ea39",
   "metadata": {},
   "source": [
    "## Question1\n",
    "\n",
    "Write a function that takes a list and a number as arguments. Add the number to the end of\n",
    "the list, then remove the first element of the list. The function should then return the updated\n",
    "list.\n",
    "\n",
    "**Examples**\n",
    "\n",
    "next_in_line([5, 6, 7, 8, 9], 1) ➞ [6, 7, 8, 9, 1]\n",
    "\n",
    "next_in_line([7, 6, 3, 23, 17], 10) ➞ [6, 3, 23, 17, 10]\n",
    "\n",
    "next_in_line([1, 10, 20, 42 ], 6) ➞ [10, 20, 42, 6]\n",
    "\n",
    "next_in_line([], 6) ➞ &quot;No list has been selected&quot;"
   ]
  },
  {
   "cell_type": "code",
   "execution_count": 6,
   "id": "f52ffaf8",
   "metadata": {},
   "outputs": [
    {
     "name": "stdout",
     "output_type": "stream",
     "text": [
      "[6, 7, 8, 9, 1]\n",
      "[6, 3, 23, 17, 10]\n",
      "[10, 20, 42, 6]\n"
     ]
    }
   ],
   "source": [
    "def next_in_line(lst,num):\n",
    "    try:\n",
    "        if len(lst) > 0 :\n",
    "            lst.append(num)\n",
    "            return lst[1:]\n",
    "        else:\n",
    "            print(\"'No list has been selected'\")\n",
    "    except Exception as e:\n",
    "        print(e)\n",
    "print(next_in_line([5, 6, 7, 8, 9], 1))\n",
    "print(next_in_line([7, 6, 3, 23, 17], 10))\n",
    "print(next_in_line([1, 10, 20, 42 ], 6))"
   ]
  },
  {
   "cell_type": "code",
   "execution_count": 5,
   "id": "ae7b0d0a",
   "metadata": {},
   "outputs": [
    {
     "name": "stdout",
     "output_type": "stream",
     "text": [
      "'No list has been selected'\n"
     ]
    }
   ],
   "source": [
    "next_in_line([], 6)"
   ]
  },
  {
   "cell_type": "markdown",
   "id": "fe6b88a2",
   "metadata": {},
   "source": [
    "## Question2\n",
    "\n",
    "Create the function that takes a list of dictionaries and returns the sum of people&#39;s budgets.\n",
    "\n",
    "**Examples**\n",
    "\n",
    "get_budgets([\n",
    "{ &quot;name&quot;: &quot;John&quot;, &quot;age&quot;: 21, &quot;budget&quot;: 23000 },\n",
    "{ &quot;name&quot;: &quot;Steve&quot;, &quot;age&quot;: 32, &quot;budget&quot;: 40000 },\n",
    "{ &quot;name&quot;: &quot;Martin&quot;, &quot;age&quot;: 16, &quot;budget&quot;: 2700 }\n",
    "]) ➞ 65700\n",
    "\n",
    "get_budgets([\n",
    "{ &quot;name&quot;: &quot;John&quot;, &quot;age&quot;: 21, &quot;budget&quot;: 29000 },\n",
    "{ &quot;name&quot;: &quot;Steve&quot;, &quot;age&quot;: 32, &quot;budget&quot;: 32000 },\n",
    "{ &quot;name&quot;: &quot;Martin&quot;, &quot;age&quot;: 16, &quot;budget&quot;: 1600 }\n",
    "]) ➞ 62600"
   ]
  },
  {
   "cell_type": "code",
   "execution_count": 7,
   "id": "4f5d4a18",
   "metadata": {},
   "outputs": [],
   "source": [
    "def get_budgets(listDict):\n",
    "    try:\n",
    "        sum = 0\n",
    "        for i in listDict:\n",
    "            for k,v in i.items():\n",
    "                if k == 'budget':\n",
    "                    sum = sum + v\n",
    "        return sum\n",
    "    except Excption as e:\n",
    "        print(e)"
   ]
  },
  {
   "cell_type": "code",
   "execution_count": 8,
   "id": "8c5f8504",
   "metadata": {},
   "outputs": [
    {
     "data": {
      "text/plain": [
       "65700"
      ]
     },
     "execution_count": 8,
     "metadata": {},
     "output_type": "execute_result"
    }
   ],
   "source": [
    "get_budgets([\n",
    "{ 'name': 'John', 'age': 21, 'budget': 23000 },\n",
    "{ 'name': 'Steve', 'age': 32, 'budget': 40000 },\n",
    "{ 'name': 'Martin', 'age': 16, 'budget': 2700 }\n",
    "])"
   ]
  },
  {
   "cell_type": "code",
   "execution_count": 9,
   "id": "32b57185",
   "metadata": {},
   "outputs": [
    {
     "data": {
      "text/plain": [
       "62600"
      ]
     },
     "execution_count": 9,
     "metadata": {},
     "output_type": "execute_result"
    }
   ],
   "source": [
    "get_budgets([\n",
    "{ 'name': 'John', 'age': 21, 'budget': 29000 },\n",
    "{ 'name': 'Steve', 'age': 32, 'budget': 32000 },\n",
    "{ 'name': 'Martin', 'age': 16, 'budget': 1600 }\n",
    "])"
   ]
  },
  {
   "cell_type": "markdown",
   "id": "9ebd9a18",
   "metadata": {},
   "source": [
    "## Question3\n",
    "Create a function that takes a string and returns a string with its letters in alphabetical order.\n",
    "\n",
    "**Examples**\n",
    "\n",
    "alphabet_soup('hello') ➞ 'ehllo'\n",
    "\n",
    "alphabet_soup('edabit') ➞ 'abdeit'\n",
    "\n",
    "alphabet_soup('hacker') ➞ 'acehkr'\n",
    "\n",
    "alphabet_soup('geek') ➞ 'eegk'\n",
    "\n",
    "alphabet_soup('javascript') ➞ 'aacijprstv'"
   ]
  },
  {
   "cell_type": "code",
   "execution_count": 10,
   "id": "d6ec4b56",
   "metadata": {},
   "outputs": [
    {
     "name": "stdout",
     "output_type": "stream",
     "text": [
      "ehllo\n",
      "abdeit\n",
      "acehkr\n",
      "eegk\n",
      "aacijprstv\n"
     ]
    }
   ],
   "source": [
    "def alphabet_soup(str):\n",
    "    try:\n",
    "        return ''.join(sorted(str))\n",
    "    except Exception as e:\n",
    "        print(e)\n",
    "print(alphabet_soup('hello'))\n",
    "print(alphabet_soup('edabit'))\n",
    "print(alphabet_soup('hacker'))\n",
    "print(alphabet_soup('geek'))\n",
    "print(alphabet_soup('javascript'))"
   ]
  },
  {
   "cell_type": "markdown",
   "id": "0f2a3339",
   "metadata": {},
   "source": [
    "## Question4\n",
    "\n",
    "Suppose that you invest $10,000 for 10 years at an interest rate of 6% compounded monthly.\n",
    "What will be the value of your investment at the end of the 10 year period?\n",
    "Create a function that accepts the principal p, the term in years t, the interest rate r, and the\n",
    "number of compounding periods per year n. The function returns the value at the end of term\n",
    "rounded to the nearest cent.\n",
    "\n",
    "\n",
    "For the example above:\n",
    "\n",
    "compound_interest(10000, 10, 0.06, 12) ➞ 18193.97\n",
    "\n",
    "Note that the interest rate is given as a decimal and n=12 because with monthly compounding\n",
    "there are 12 periods per year. Compounding can also be done annually, quarterly, weekly, or\n",
    "daily.\n",
    "\n",
    "**Examples**\n",
    "\n",
    "compound_interest(100, 1, 0.05, 1) ➞ 105.0\n",
    "\n",
    "compound_interest(3500, 15, 0.1, 4) ➞ 15399.26\n",
    "\n",
    "compound_interest(100000, 20, 0.15, 365) ➞ 2007316.26\n",
    "\n",
    "FV = PV(1 + r/m)mt"
   ]
  },
  {
   "cell_type": "code",
   "execution_count": 13,
   "id": "f5229a58",
   "metadata": {},
   "outputs": [
    {
     "name": "stdout",
     "output_type": "stream",
     "text": [
      "105.0\n",
      "15399.26\n",
      "2007316.26\n"
     ]
    }
   ],
   "source": [
    "def compound_interest(amt, years, intrest, compPeriod):\n",
    "    try:\n",
    "        fv = amt *(1 + (intrest/compPeriod)) ** (years * compPeriod)\n",
    "        return round(fv,2)\n",
    "    except Exception as e:\n",
    "        print(e)\n",
    "print(compound_interest(100, 1, 0.05, 1))\n",
    "print(compound_interest(3500, 15, 0.1, 4))\n",
    "print(compound_interest(100000, 20, 0.15, 365))"
   ]
  },
  {
   "cell_type": "markdown",
   "id": "71b1fb82",
   "metadata": {},
   "source": [
    "## Question5\n",
    "\n",
    "Write a function that takes a list of elements and returns only the integers.\n",
    "\n",
    "**Examples**\n",
    "\n",
    "return_only_integer([9, 2, 'space', 'car', 'lion', 16]) ➞ [9, 2, 16]\n",
    "\n",
    "return_only_integer(['hello', 81, 'basketball', 123, 'fox']) ➞ [81, 123]\n",
    "\n",
    "return_only_integer([10, '121', 56, 20, 'car', 3, 'lion']) ➞ [10, 56, 20, 3]\n",
    "\n",
    "return_only_integer(['String', True, 3.3, 1]) ➞ [1]"
   ]
  },
  {
   "cell_type": "code",
   "execution_count": 15,
   "id": "b0015f52",
   "metadata": {},
   "outputs": [
    {
     "name": "stdout",
     "output_type": "stream",
     "text": [
      "[9, 2, 16]\n",
      "[81, 123]\n",
      "[10, 56, 20, 3]\n",
      "[1]\n"
     ]
    }
   ],
   "source": [
    "def return_only_integer(lst):\n",
    "    try:\n",
    "        intLst = []\n",
    "        for i in lst:\n",
    "            if type(i) == int:\n",
    "                intLst.append(i)\n",
    "        return intLst\n",
    "    except Exception as e:\n",
    "        print(e)\n",
    "print(return_only_integer([9, 2, 'space', 'car', 'lion', 16]))\n",
    "print(return_only_integer(['hello', 81, 'basketball', 123, 'fox']))\n",
    "print(return_only_integer([10, '121', 56, 20, 'car', 3, 'lion']))\n",
    "print(return_only_integer(['String', True, 3.3, 1]))"
   ]
  },
  {
   "cell_type": "code",
   "execution_count": null,
   "id": "53aa7ac4",
   "metadata": {},
   "outputs": [],
   "source": []
  }
 ],
 "metadata": {
  "kernelspec": {
   "display_name": "Python 3",
   "language": "python",
   "name": "python3"
  },
  "language_info": {
   "codemirror_mode": {
    "name": "ipython",
    "version": 3
   },
   "file_extension": ".py",
   "mimetype": "text/x-python",
   "name": "python",
   "nbconvert_exporter": "python",
   "pygments_lexer": "ipython3",
   "version": "3.8.8"
  }
 },
 "nbformat": 4,
 "nbformat_minor": 5
}
