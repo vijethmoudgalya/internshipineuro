{
 "cells": [
  {
   "cell_type": "markdown",
   "id": "7089b6c1",
   "metadata": {},
   "source": [
    "## Question1\n",
    "**Create a function that takes a string and returns a string in which each character is repeated once.**\n",
    "\n",
    "**Examples**\n",
    "\n",
    "**double_char('String') ➞ 'SSttrriinngg'**\n",
    "\n",
    "**double_char('Hello World!') ➞ 'HHeelllloo WWoorrlldd!!'**\n",
    "\n",
    "**double_char('1234!_ ') ➞ '11223344!!__ '**"
   ]
  },
  {
   "cell_type": "code",
   "execution_count": 4,
   "id": "47df252d",
   "metadata": {},
   "outputs": [
    {
     "name": "stdout",
     "output_type": "stream",
     "text": [
      "aabbvv\n",
      "HHeelllloo  WWoorrlldd!!\n",
      "11223344!!__  \n"
     ]
    }
   ],
   "source": [
    "def double_char(str):\n",
    "    try:\n",
    "        return ''.join([char+char for char in str])\n",
    "    except Exception as e:\n",
    "        print(e)\n",
    "print(double_char('abv'))\n",
    "print(double_char('Hello World!'))\n",
    "print(double_char('1234!_ '))"
   ]
  },
  {
   "cell_type": "markdown",
   "id": "58d36f77",
   "metadata": {},
   "source": [
    "## Question2\n",
    "**Create a function that reverses a boolean value and returns the string 'boolean expected' if another variable type is given.**\n",
    "\n",
    "**Examples**\n",
    "\n",
    "reverse(True) ➞ False\n",
    "reverse(False) ➞ True\n",
    "reverse(0) ➞ 'boolean expected'\n",
    "reverse(None) ➞ 'boolean expected'"
   ]
  },
  {
   "cell_type": "code",
   "execution_count": 7,
   "id": "3cd577f8",
   "metadata": {},
   "outputs": [
    {
     "name": "stdout",
     "output_type": "stream",
     "text": [
      "False\n",
      "True\n",
      "boolean expected\n"
     ]
    }
   ],
   "source": [
    "def reverse(arg=None):\n",
    "    try:\n",
    "        return not arg if type(arg) == bool else \"boolean expected\"\n",
    "    except Exception as e:\n",
    "        print(e)\n",
    "print(reverse(True))\n",
    "print(reverse(False))\n",
    "print(reverse(0))"
   ]
  },
  {
   "cell_type": "markdown",
   "id": "8b704e39",
   "metadata": {},
   "source": [
    "## Question3\n",
    "\n",
    "**Create a function that returns the thickness (in meters) of a piece of paper after folding it n\n",
    "number of times. The paper starts off with a thickness of 0.5mm.*\n",
    "\n",
    "**Examples**\n",
    "\n",
    "**num_layers(1) ➞ '0.001m'**\n",
    "\n",
    "**Paper folded once is 1mm (equal to 0.001m)**\n",
    "\n",
    "**num_layers(4) ➞ '0.008m'**\n",
    "\n",
    "**Paper folded 4 times is 8mm (equal to 0.008m)**\n",
    "\n",
    "**num_layers(21) ➞ '1048.576m'\n",
    "Paper folded 21 times is 1048576mm (equal to 1048.576m)**"
   ]
  },
  {
   "cell_type": "code",
   "execution_count": 10,
   "id": "3abb6870",
   "metadata": {},
   "outputs": [
    {
     "name": "stdout",
     "output_type": "stream",
     "text": [
      "0.001m\n",
      "0.008m\n",
      "1048.576m\n"
     ]
    }
   ],
   "source": [
    "def num_layers(num):\n",
    "    try:\n",
    "        thickness = 0.5\n",
    "        for _ in range(num):\n",
    "            thickness*= 2\n",
    "        return str(thickness / 1000)+'m'\n",
    "    except Exception as e:\n",
    "        print(e)\n",
    "print(num_layers(1))\n",
    "print(num_layers(4))\n",
    "print(num_layers(21))"
   ]
  },
  {
   "cell_type": "markdown",
   "id": "672186a8",
   "metadata": {},
   "source": [
    "## Question4\n",
    "\n",
    "**Create a function that takes a single string as argument and returns an ordered list containing\n",
    "the indices of all capital letters in the string.**\n",
    "\n",
    "**Examples**\n",
    "\n",
    "**index_of_caps('eDaBiT') ➞ [1, 3, 5]**\n",
    "\n",
    "**index_of_caps('eQuINoX') ➞ [1, 3, 4, 6]**\n",
    "\n",
    "**index_of_caps('determine') ➞ []**\n",
    "\n",
    "**index_of_caps('STRIKE') ➞ [0, 1, 2, 3, 4, 5]**\n",
    "\n",
    "**index_of_caps('sUn') ➞ [1]**\n"
   ]
  },
  {
   "cell_type": "code",
   "execution_count": 13,
   "id": "c21d80b5",
   "metadata": {},
   "outputs": [
    {
     "name": "stdout",
     "output_type": "stream",
     "text": [
      "[1, 3, 5]\n",
      "[1, 3, 4, 6]\n",
      "[]\n",
      "[0, 1, 2, 3, 4, 5]\n",
      "[1]\n"
     ]
    }
   ],
   "source": [
    "def index_of_caps(str):\n",
    "    try:\n",
    "        indices = []\n",
    "        for i in range (len(str)):\n",
    "            if str[i].isupper():\n",
    "                indices.append(i)\n",
    "        return indices\n",
    "    except Exception as e:\n",
    "        print(e)\n",
    "print(index_of_caps('eDaBiT'))\n",
    "print(index_of_caps('eQuINoX'))\n",
    "print(index_of_caps('determine'))\n",
    "print(index_of_caps('STRIKE'))\n",
    "print(index_of_caps('sUn'))"
   ]
  },
  {
   "cell_type": "markdown",
   "id": "81a72730",
   "metadata": {},
   "source": [
    "## Question5\n",
    "**Using list comprehensions, create a function that finds all even numbers from 1 to the given number.**\n",
    "\n",
    "**Examples**\n",
    "\n",
    "**find_even_nums(8) ➞ [2, 4, 6, 8]**\n",
    "\n",
    "**find_even_nums(4) ➞ [2, 4]**\n",
    "\n",
    "**find_even_nums(2) ➞ [2]**"
   ]
  },
  {
   "cell_type": "code",
   "execution_count": 15,
   "id": "72377c6f",
   "metadata": {},
   "outputs": [
    {
     "name": "stdout",
     "output_type": "stream",
     "text": [
      "[2, 4, 6, 8]\n",
      "[2, 4]\n",
      "[2]\n"
     ]
    }
   ],
   "source": [
    "def find_even_nums(num):\n",
    "    try:\n",
    "        evennum = [x for x in range (2,num+1) if x%2==0]\n",
    "        return evennum\n",
    "    except Exception as  e:\n",
    "        print(e)\n",
    "print(find_even_nums(8))\n",
    "print(find_even_nums(4))\n",
    "print(find_even_nums(2))"
   ]
  },
  {
   "cell_type": "code",
   "execution_count": null,
   "id": "016c7827",
   "metadata": {},
   "outputs": [],
   "source": []
  }
 ],
 "metadata": {
  "kernelspec": {
   "display_name": "Python 3",
   "language": "python",
   "name": "python3"
  },
  "language_info": {
   "codemirror_mode": {
    "name": "ipython",
    "version": 3
   },
   "file_extension": ".py",
   "mimetype": "text/x-python",
   "name": "python",
   "nbconvert_exporter": "python",
   "pygments_lexer": "ipython3",
   "version": "3.8.8"
  }
 },
 "nbformat": 4,
 "nbformat_minor": 5
}
