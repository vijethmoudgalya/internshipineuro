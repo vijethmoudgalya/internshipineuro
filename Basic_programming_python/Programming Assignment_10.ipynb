{
 "cells": [
  {
   "cell_type": "markdown",
   "id": "caba6659",
   "metadata": {},
   "source": [
    "## 1. Write a Python program to find sum of elements in list?"
   ]
  },
  {
   "cell_type": "code",
   "execution_count": 9,
   "id": "fc1832f8",
   "metadata": {},
   "outputs": [
    {
     "name": "stdout",
     "output_type": "stream",
     "text": [
      "Sum of Elements is 21\n"
     ]
    }
   ],
   "source": [
    "def list_sum(lis):\n",
    "    total = sum(lis)\n",
    "    print(\"Sum of Elements is {}\".format(total))\n",
    "list_sum([1,2,3,4,5,6])"
   ]
  },
  {
   "cell_type": "markdown",
   "id": "81e996af",
   "metadata": {},
   "source": [
    "## 2. Write a Python program to Multiply all numbers in the list?"
   ]
  },
  {
   "cell_type": "code",
   "execution_count": 20,
   "id": "ab92d966",
   "metadata": {},
   "outputs": [
    {
     "name": "stdout",
     "output_type": "stream",
     "text": [
      "Answer 24\n"
     ]
    }
   ],
   "source": [
    "def lismul(lis):\n",
    "    try:\n",
    "        mul = 1\n",
    "        for i in lis:\n",
    "            mul  = i*mul\n",
    "        print(\"Answer {}\".format(mul))\n",
    "    except exceptions as e:\n",
    "        print(e)\n",
    "lis = [1,2,3,4]\n",
    "lismul(lis)\n"
   ]
  },
  {
   "cell_type": "markdown",
   "id": "2904dba8",
   "metadata": {},
   "source": [
    "## 3. Write a Python program to find smallest number in a list?"
   ]
  },
  {
   "cell_type": "code",
   "execution_count": 7,
   "id": "c38b7f63",
   "metadata": {},
   "outputs": [
    {
     "name": "stdout",
     "output_type": "stream",
     "text": [
      "1\n"
     ]
    }
   ],
   "source": [
    "def smallest(list):\n",
    "    try:\n",
    "        res = min(list)\n",
    "        print(res)\n",
    "    except exceptions as e:\n",
    "        print(e)\n",
    "smallest([1,2,3,4,5,6,79,9,10,12])"
   ]
  },
  {
   "cell_type": "markdown",
   "id": "1fa6db05",
   "metadata": {},
   "source": [
    "## 4. Write a Python program to find largest number in a list?"
   ]
  },
  {
   "cell_type": "code",
   "execution_count": 10,
   "id": "c9e55101",
   "metadata": {},
   "outputs": [
    {
     "name": "stdout",
     "output_type": "stream",
     "text": [
      "79\n"
     ]
    }
   ],
   "source": [
    "def largest(list):\n",
    "    try:\n",
    "        res = max(list)\n",
    "        print(res)\n",
    "    except exceptions as e:\n",
    "        print(e)\n",
    "    \n",
    "largest([1,2,3,4,5,6,79,9,10,12])"
   ]
  },
  {
   "cell_type": "markdown",
   "id": "612bbbb8",
   "metadata": {},
   "source": [
    "## 5. Write a Python program to find second largest number in a list?"
   ]
  },
  {
   "cell_type": "code",
   "execution_count": 43,
   "id": "be23506e",
   "metadata": {},
   "outputs": [
    {
     "name": "stdout",
     "output_type": "stream",
     "text": [
      "The Second Largest Nummber is  [12]\n"
     ]
    }
   ],
   "source": [
    "import numpy as np\n",
    "lis = [1,2,3,4,5,6,79,9,10,12]\n",
    "a = np.sort(lis)\n",
    "print(\"The Second Largest Nummber is  {}\".format(a[-2:-1]))"
   ]
  },
  {
   "cell_type": "markdown",
   "id": "d80ecaa0",
   "metadata": {},
   "source": [
    "## 6. Write a Python program to find N largest elements from a list?"
   ]
  },
  {
   "cell_type": "code",
   "execution_count": 67,
   "id": "1e9178ac",
   "metadata": {},
   "outputs": [
    {
     "name": "stdout",
     "output_type": "stream",
     "text": [
      "The Largest elements are  [ 8  9 10]\n"
     ]
    }
   ],
   "source": [
    "import numpy as np\n",
    "def nlargest(n,lis):\n",
    "    try:\n",
    "        s = np.sort(lis)\n",
    "        print(\"The Largest elements are  {}\".format(s[-n:]))\n",
    "    except exceptions as e:\n",
    "        print(e)\n",
    "nlargest(3,[1,2,3,4,5,6,7,8,9,10])\n",
    "        "
   ]
  },
  {
   "cell_type": "markdown",
   "id": "7f4daa8b",
   "metadata": {},
   "source": [
    "## 7. Write a Python program to print even numbers in a list?"
   ]
  },
  {
   "cell_type": "code",
   "execution_count": 6,
   "id": "982ca5d0",
   "metadata": {},
   "outputs": [
    {
     "name": "stdout",
     "output_type": "stream",
     "text": [
      "2\n",
      "4\n",
      "6\n",
      "8\n",
      "10\n"
     ]
    }
   ],
   "source": [
    "def even(lis):\n",
    "    try:\n",
    "        for i in lis:\n",
    "            if (i % 2 == 0):\n",
    "                print(i)\n",
    "    except exceptions as e:\n",
    "        print(e)\n",
    "even([1,2,3,4,5,6,7,8,9,10])"
   ]
  },
  {
   "cell_type": "markdown",
   "id": "a97562be",
   "metadata": {},
   "source": [
    "## 8. Write a Python program to print odd numbers in a List?"
   ]
  },
  {
   "cell_type": "code",
   "execution_count": 9,
   "id": "c3679942",
   "metadata": {},
   "outputs": [
    {
     "name": "stdout",
     "output_type": "stream",
     "text": [
      "1\n",
      "3\n",
      "5\n",
      "7\n",
      "9\n"
     ]
    }
   ],
   "source": [
    "def odd(lis):\n",
    "    try:\n",
    "        for i in lis:\n",
    "            if (i % 2 != 0):\n",
    "                print(i)\n",
    "    except exceptions as e:\n",
    "        print(e)\n",
    "odd([1,2,3,4,5,6,7,8,9,10])"
   ]
  },
  {
   "cell_type": "markdown",
   "id": "08d814b1",
   "metadata": {},
   "source": [
    "## 9. Write a Python program to Remove empty List from List?"
   ]
  },
  {
   "cell_type": "code",
   "execution_count": 67,
   "id": "5fb51d56",
   "metadata": {},
   "outputs": [
    {
     "name": "stdout",
     "output_type": "stream",
     "text": [
      "Succesfully Removed Empty List\n"
     ]
    }
   ],
   "source": [
    "def rem_emtlis(lis):\n",
    "    try:\n",
    "        for i in lis:\n",
    "            if(len(i) == 0):\n",
    "                lis.remove(i)\n",
    "                print(\"Succesfully Removed Empty List\")\n",
    "                break\n",
    "        else:\n",
    "            print(\"Nothing to remove\")\n",
    "    except exceptions as e:\n",
    "        print(e)\n",
    "lis = [[1,2,3,4,5,6,7,8,9],[2,4,5,8,9,3,],[2,4,5,6,8,9],[]]\n",
    "rem_emtlis(lis)"
   ]
  },
  {
   "cell_type": "markdown",
   "id": "91f2746f",
   "metadata": {},
   "source": [
    "## 10. Write a Python program to Cloning or Copying a list?"
   ]
  },
  {
   "cell_type": "code",
   "execution_count": 79,
   "id": "bf99ff40",
   "metadata": {},
   "outputs": [
    {
     "name": "stdout",
     "output_type": "stream",
     "text": [
      "Original List [1, 2, 3, 4, 5, 6, 7, 8, 9]\n",
      "Cloned List [1, 2, 3, 4, 5, 6, 7, 8, 9]\n"
     ]
    }
   ],
   "source": [
    "def lis_copy(lis):\n",
    "    try:\n",
    "        print(\"Original List {}\".format(lis))\n",
    "        a  = lis\n",
    "        print(\"Cloned List {}\".format(a))\n",
    "    except exceptions as e:\n",
    "        print(e)\n",
    "lis = [1,2,3,4,5,6,7,8,9]\n",
    "lis_copy(lis)"
   ]
  },
  {
   "cell_type": "markdown",
   "id": "f28dae7e",
   "metadata": {},
   "source": [
    "## 11. Write a Python program to Count occurrences of an element in a list?"
   ]
  },
  {
   "cell_type": "code",
   "execution_count": 22,
   "id": "2c716aa6",
   "metadata": {},
   "outputs": [
    {
     "name": "stdout",
     "output_type": "stream",
     "text": [
      "apple has occured 2 times\n"
     ]
    }
   ],
   "source": [
    "def count(lis,ele):\n",
    "    try:\n",
    "        if ele in lis:\n",
    "            res = lis.count(ele)\n",
    "            print(\"{} has occured {} times\".format((ele),(res)))\n",
    "        else:\n",
    "            print(\"The element does not exists\")\n",
    "    except exceptions as e:\n",
    "        print(e)\n",
    "lis = [\"apple\",\"banana\",\"papaya\",\"grapes\",\"apple\"]\n",
    "count(lis,\"apple\")\n"
   ]
  }
 ],
 "metadata": {
  "kernelspec": {
   "display_name": "Python 3",
   "language": "python",
   "name": "python3"
  },
  "language_info": {
   "codemirror_mode": {
    "name": "ipython",
    "version": 3
   },
   "file_extension": ".py",
   "mimetype": "text/x-python",
   "name": "python",
   "nbconvert_exporter": "python",
   "pygments_lexer": "ipython3",
   "version": "3.8.8"
  }
 },
 "nbformat": 4,
 "nbformat_minor": 5
}
