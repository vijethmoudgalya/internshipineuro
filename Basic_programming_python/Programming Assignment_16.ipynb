{
 "cells": [
  {
   "cell_type": "markdown",
   "id": "3d4c5964",
   "metadata": {},
   "source": [
    "**Question1. Write a function that stutters a word as if someone is struggling to read it. The first two letters are repeated twice with an ellipsis ... and space after each, and then the word is pronounced with a question mark ?.**\n",
    "\n",
    "**Examples**\n",
    "\n",
    "**stutter(\"incredible\") ➞ \"in... in... incredible?\"**\n",
    "\n",
    "**stutter(\"enthusiastic\") ➞ \"en... en... enthusiastic?\"**\n",
    "\n",
    "**stutter(\"outstanding\") ➞ \"ou... ou... outstanding?\"**"
   ]
  },
  {
   "cell_type": "code",
   "execution_count": 3,
   "id": "9048c87c",
   "metadata": {},
   "outputs": [
    {
     "name": "stdout",
     "output_type": "stream",
     "text": [
      "in...in...incredible?\n",
      "en...en...enthusiastic?\n",
      "ou...ou...outstanding?\n"
     ]
    }
   ],
   "source": [
    "def stutter(word):\n",
    "    try:\n",
    "        print(2*(word[0:2]+'...')+word+'?')\n",
    "    except Exception as e:\n",
    "        print(e)\n",
    "stutter(\"incredible\")\n",
    "stutter(\"enthusiastic\")\n",
    "stutter(\"outstanding\")"
   ]
  },
  {
   "cell_type": "markdown",
   "id": "20bd90ae",
   "metadata": {},
   "source": [
    "**Question 2.Create a function that takes an angle in radians and returns the corresponding angle in degrees rounded to one decimal place.**\n",
    "\n",
    "**Examples**\n",
    "\n",
    "radians_to_degrees(1) ➞ 57.3\n",
    "\n",
    "radians_to_degrees(20) ➞ 1145.9\n",
    "\n",
    "radians_to_degrees(50) ➞ 2864.8 "
   ]
  },
  {
   "cell_type": "code",
   "execution_count": 11,
   "id": "38497ee0",
   "metadata": {},
   "outputs": [
    {
     "name": "stdout",
     "output_type": "stream",
     "text": [
      "57.324840764331206\n",
      "1146.4968152866243\n",
      "2866.2420382165606\n"
     ]
    }
   ],
   "source": [
    "def radians_to_degrees(rad):\n",
    "    try:\n",
    "        print((rad*180)/3.14)\n",
    "    except Exception as e:\n",
    "        print(e)\n",
    "\n",
    "radians_to_degrees(1)\n",
    "radians_to_degrees(20)\n",
    "radians_to_degrees(50)"
   ]
  },
  {
   "cell_type": "markdown",
   "id": "5262434c",
   "metadata": {},
   "source": [
    "**Question 3. In this challenge, establish if a given integer num is a Curzon number. If 1 plus 2 elevated to num is exactly divisible by 1 plus 2 multiplied by num, then num is a Curzon number. Given a non-negative integer num, implement a function that returns True if num is a Curzon number, or False otherwise.**\n",
    "\n",
    "Examples\n",
    "is_curzon(5) ➞ True\n",
    "\n",
    "*# 2 ** 5 + 1 = 33\n",
    "\n",
    "*# 33 is a multiple of 11\n",
    "\n",
    "is_curzon(10) ➞ False\n",
    "\n",
    "*# 2 ** 10 + 1 = 1025\n",
    "\n",
    "*# 2 * 10 + 1 = 21*\n",
    "\n",
    "*# 1025 is not a multiple of 21\n",
    "\n",
    "is_curzon(14) ➞ True\n",
    "\n",
    "*# 2 ** 14 + 1 = 16385¶\n",
    "\n",
    "*# 2 * 14 + 1 = 29\n",
    "\n",
    "*# 16385 is a multiple of 29"
   ]
  },
  {
   "cell_type": "code",
   "execution_count": 14,
   "id": "633b1b70",
   "metadata": {},
   "outputs": [
    {
     "data": {
      "text/plain": [
       "True"
      ]
     },
     "execution_count": 14,
     "metadata": {},
     "output_type": "execute_result"
    }
   ],
   "source": [
    "def is_curzon(n):\n",
    "    try:\n",
    "        a = pow(2,n)+1\n",
    "        b = (2*n)+1\n",
    "        return a%b==0\n",
    "    except Exception as e:\n",
    "        print(e)\n",
    "is_curzon(5)"
   ]
  },
  {
   "cell_type": "markdown",
   "id": "cec8c8ef",
   "metadata": {},
   "source": [
    "**Question 4.Given the side length x find the area of a hexagon.**\n",
    "\n",
    "Examples\n",
    "\n",
    "area_of_hexagon(1) ➞ 2.6\n",
    "\n",
    "area_of_hexagon(2) ➞ 10.4\n",
    "\n",
    "area_of_hexagon(3) ➞ 23.4\n"
   ]
  },
  {
   "cell_type": "code",
   "execution_count": 26,
   "id": "420d93aa",
   "metadata": {},
   "outputs": [
    {
     "name": "stdout",
     "output_type": "stream",
     "text": [
      "2.6\n"
     ]
    }
   ],
   "source": [
    "def area_of_hexagon(side_length):\n",
    "    try:\n",
    "        area = (3*1.73*side_length*side_length)/2\n",
    "        print(round((area),1))\n",
    "    except Exception as e:\n",
    "        print(e)\n",
    "\n",
    "area_of_hexagon(1)"
   ]
  },
  {
   "cell_type": "markdown",
   "id": "853861d6",
   "metadata": {},
   "source": [
    "**Question 5. Create a function that returns a base-2 (binary) representation of a base-10 (decimal) string number. To convert is simple:**\n",
    "\n",
    "((2) means base-2 and (10) means base-10)\n",
    "010101001(2) = 1 + 8 + 32 + 128.\n",
    "\n",
    "Going from right to left, the value of the most right bit is 1, now from that every bit to the left\n",
    "will be x2 the value, value of an 8 bit binary numbers are (256, 128, 64, 32, 16, 8, 4, 2, 1).\n",
    "\n",
    "Examples\n",
    "\n",
    "binary(1) ➞ \"1\"\n",
    "\n",
    "*# 1** 1 = 1\n",
    "\n",
    "binary(5) ➞ \"101\"\n",
    "\n",
    "#* 1 1 + 1 4 = 5\n",
    "\n",
    "binary(10) ➞ \"1010\"\n",
    "\n",
    "#* 1 2 + 1 8 = 10 "
   ]
  },
  {
   "cell_type": "code",
   "execution_count": 33,
   "id": "35873438",
   "metadata": {},
   "outputs": [
    {
     "data": {
      "text/plain": [
       "'101'"
      ]
     },
     "execution_count": 33,
     "metadata": {},
     "output_type": "execute_result"
    }
   ],
   "source": [
    "def binary(num):\n",
    "    try:\n",
    "        return bin(num).replace(\"0b\",\"\")\n",
    "    except Exception as e:\n",
    "        print(e)\n",
    "        \n",
    "binary(5)"
   ]
  },
  {
   "cell_type": "code",
   "execution_count": null,
   "id": "b550cc0a",
   "metadata": {},
   "outputs": [],
   "source": []
  }
 ],
 "metadata": {
  "kernelspec": {
   "display_name": "Python 3",
   "language": "python",
   "name": "python3"
  },
  "language_info": {
   "codemirror_mode": {
    "name": "ipython",
    "version": 3
   },
   "file_extension": ".py",
   "mimetype": "text/x-python",
   "name": "python",
   "nbconvert_exporter": "python",
   "pygments_lexer": "ipython3",
   "version": "3.8.8"
  }
 },
 "nbformat": 4,
 "nbformat_minor": 5
}
