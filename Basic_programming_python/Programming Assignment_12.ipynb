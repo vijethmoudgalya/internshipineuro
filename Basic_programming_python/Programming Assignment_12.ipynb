{
 "cells": [
  {
   "cell_type": "markdown",
   "id": "2faee73a",
   "metadata": {},
   "source": [
    "## 1. Write a Python program to Extract Unique values dictionary values?"
   ]
  },
  {
   "cell_type": "code",
   "execution_count": 26,
   "id": "60cf2a5c",
   "metadata": {},
   "outputs": [
    {
     "name": "stdout",
     "output_type": "stream",
     "text": [
      "The original dictionary  is {'a': [1, 2, 3, 4], 'b': [4, 5, 6, 7], 'c': [3, 6, 7, 8]}\n",
      "The unique values are [1, 2, 3, 4, 5, 6, 7, 8]\n"
     ]
    }
   ],
   "source": [
    "def unique(dict):\n",
    "    try:\n",
    "        print(\"The original dictionary  is {}\".format(dict))\n",
    "        res = list(sorted({ele for val in dict.values() for ele in val}))\n",
    "        print(\"The unique values are \"+str(res))\n",
    "    except exceptions as e:\n",
    "        print(e)\n",
    "dict = {'a':[1,2,3,4],'b':[4,5,6,7],'c':[3,6,7,8]}\n",
    "unique(dict)\n"
   ]
  },
  {
   "cell_type": "markdown",
   "id": "b72d4cdd",
   "metadata": {},
   "source": [
    "## 2. Write a Python program to find the sum of all items in a dictionary?"
   ]
  },
  {
   "cell_type": "code",
   "execution_count": 42,
   "id": "bfbb0f6a",
   "metadata": {},
   "outputs": [
    {
     "name": "stdout",
     "output_type": "stream",
     "text": [
      "Sum of all elements in dictinory is 56\n"
     ]
    }
   ],
   "source": [
    "def dict_sum(dict):\n",
    "    try:\n",
    "        sum = 0\n",
    "        for i in dict.values():\n",
    "            for j in i:\n",
    "                sum+= j\n",
    "                res = sum\n",
    "        print(\"Sum of all elements in dictinory is \"+str(res))\n",
    "    except exceptions as e:\n",
    "        print(e)\n",
    "dict = {'a':[1,2,3,4],'b':[4,5,6,7],'c':[3,6,7,8]}\n",
    "dict_sum(dict)\n"
   ]
  },
  {
   "cell_type": "markdown",
   "id": "87e5b785",
   "metadata": {},
   "source": [
    "## 3. Write a Python program to Merging two Dictionaries"
   ]
  },
  {
   "cell_type": "code",
   "execution_count": 2,
   "id": "fbfedcf9",
   "metadata": {},
   "outputs": [
    {
     "name": "stdout",
     "output_type": "stream",
     "text": [
      "{'a': [1, 2, 3, 4], 'b': [4, 5, 6, 7], 'c': [3, 6, 7, 8], 'd': [1, 2, 3, 4, 5, 6, 7, 8], 'e': [1, 1, 1, 1, 1], 'f': [4, 2, 0]}\n"
     ]
    }
   ],
   "source": [
    "#defining the function \n",
    "def merg(dict1,dict2):\n",
    "    try:\n",
    "        res = dict1.update(dict2)\n",
    "        print(dict1)\n",
    "    except exceptions as e:\n",
    "        print(e)\n",
    "dict1 = {'a':[1,2,3,4],'b':[4,5,6,7],'c':[3,6,7,8]}\n",
    "dict2 = {'d':[1,2,3,4,5,6,7,8],'e':[1,1,1,1,1],'f':[4,2,0]}\n",
    "merg(dict1,dict2)\n"
   ]
  },
  {
   "cell_type": "markdown",
   "id": "5d82c44c",
   "metadata": {},
   "source": [
    "## 4. Write a Python program to convert key-values list to flat dictionary?"
   ]
  },
  {
   "cell_type": "code",
   "execution_count": 7,
   "id": "8dff67a5",
   "metadata": {},
   "outputs": [
    {
     "name": "stdout",
     "output_type": "stream",
     "text": [
      "The original dictionary is : {'month': [1, 2, 3], 'name': ['Jan', 'Feb', 'March']}\n",
      "Flattened dictionary : {1: 'Jan', 2: 'Feb', 3: 'March'}\n"
     ]
    }
   ],
   "source": [
    "def convert(test_dict):\n",
    "    try:\n",
    "        # printing original dictionary\n",
    "        print(\"The original dictionary is : \" + str(test_dict))\n",
    "        res = dict(zip(test_dict['month'], test_dict['name']))\n",
    "  \n",
    "        # printing result \n",
    "        print(\"Flattened dictionary : \" + str(res)) \n",
    "    except exceptions as e:\n",
    "        print(e)\n",
    "test_dict = {'month' : [1, 2, 3],'name' : ['Jan', 'Feb', 'March']}\n",
    "convert(test_dict)"
   ]
  },
  {
   "cell_type": "markdown",
   "id": "52145ede",
   "metadata": {},
   "source": [
    "## 5. Write a Python program to insertion at the beginning in OrderedDict?"
   ]
  },
  {
   "cell_type": "code",
   "execution_count": 15,
   "id": "12a58d86",
   "metadata": {},
   "outputs": [
    {
     "name": "stdout",
     "output_type": "stream",
     "text": [
      "Resultant Dict [{'c': 4}, {'a': 1, 'b': 2}]\n"
     ]
    }
   ],
   "source": [
    "def insert_beginning(ordered_dict,dict2):\n",
    "    try:\n",
    "        inordered_dict = list([dict2,ordered_dict])\n",
    "        print(\"Resultant Dict \"+str(inordered_dict))\n",
    "    except exceptions as e:\n",
    "        print(e)\n",
    "ordered_dict = {'a':1,'b':2}\n",
    "dict2 = {'c':4}\n",
    "insert_beginning(ordered_dict,dict2)"
   ]
  },
  {
   "cell_type": "markdown",
   "id": "4094f18c",
   "metadata": {},
   "source": [
    "## 6. Write a Python program to check order of character in string using OrderedDict()?"
   ]
  },
  {
   "cell_type": "code",
   "execution_count": 18,
   "id": "185aabc6",
   "metadata": {},
   "outputs": [
    {
     "name": "stdout",
     "output_type": "stream",
     "text": [
      "False\n",
      "True\n"
     ]
    }
   ],
   "source": [
    "from collections import OrderedDict\n",
    "def checkOrder(string, pattern): \n",
    "    try:\n",
    "        dic = OrderedDict.fromkeys(string) \n",
    "        ptr = 0\n",
    "        for key,value in dic.items(): \n",
    "            if (key == pattern[ptr]): \n",
    "                ptr = ptr + 1\n",
    "            if (ptr == (len(pattern))): \n",
    "                return 'True'\n",
    "        return 'False'\n",
    "    except  exceptions as e:\n",
    "        print(e)\n",
    "\n",
    "string = 'Study tonight'\n",
    "pattern = 'stu'\n",
    "print (checkOrder(string,pattern))\n",
    "\n",
    "string2= 'Welcome'\n",
    "pattern2= 'cm'\n",
    "print (checkOrder(string2,pattern2)) "
   ]
  },
  {
   "cell_type": "markdown",
   "id": "373b4fd9",
   "metadata": {},
   "source": [
    "## 7. Write a Python program to sort Python Dictionaries by Key or Value?"
   ]
  },
  {
   "cell_type": "code",
   "execution_count": 28,
   "id": "7d4e6e63",
   "metadata": {},
   "outputs": [
    {
     "name": "stdout",
     "output_type": "stream",
     "text": [
      "Task 1:-\n",
      "\n",
      "Keys are\n",
      "1 3 5 6 7 9 \n",
      "Task 2:-\n",
      "Keys and Values sorted in alphabetical order by the key  \n",
      "(1, 2) (3, 5) (5, 12) (6, 18) (7, 323) (9, 24) "
     ]
    }
   ],
   "source": [
    "# Function calling\n",
    "def key(dict):\n",
    "    try:\n",
    "        print (\"Task 1:-\\n\")\n",
    "        print (\"Keys are\")\n",
    "\n",
    "        for i in sorted (dict.keys()) :\n",
    "            print(i, end = \" \")\n",
    "    except exceptions as e:\n",
    "        print(e)\n",
    "def value(dict):\n",
    "    try:\n",
    "        print (\"\\nTask 2:-\\nKeys and Values sorted in\",\n",
    "            \"alphabetical order by the key  \") \n",
    "        for i in sorted (dict) :\n",
    "            print ((i, dict[i]), end =\" \")\n",
    "    except exceptions as e:\n",
    "        print(e)\n",
    "dict ={1:2,3:5,7:323,9:24,5:12,6:18}\n",
    "key(dict)\n",
    "value(dict)"
   ]
  },
  {
   "cell_type": "code",
   "execution_count": null,
   "id": "60306029",
   "metadata": {},
   "outputs": [],
   "source": []
  }
 ],
 "metadata": {
  "kernelspec": {
   "display_name": "Python 3",
   "language": "python",
   "name": "python3"
  },
  "language_info": {
   "codemirror_mode": {
    "name": "ipython",
    "version": 3
   },
   "file_extension": ".py",
   "mimetype": "text/x-python",
   "name": "python",
   "nbconvert_exporter": "python",
   "pygments_lexer": "ipython3",
   "version": "3.8.8"
  }
 },
 "nbformat": 4,
 "nbformat_minor": 5
}
