{
 "cells": [
  {
   "cell_type": "markdown",
   "id": "095f89f5",
   "metadata": {},
   "source": [
    "**Question 1:**\n",
    "\n",
    "**Please write a program using generator to print the numbers which can be divisible by 5 and\n",
    "7 between 0 and n in comma separated form while n is input by console.**\n",
    "\n",
    "**Example:**\n",
    "\n",
    "**If the following n is given as input to the program:**\n",
    "\n",
    "**100**\n",
    "\n",
    "**Then, the output of the program should be:**\n",
    "\n",
    "**0,35,70**\n"
   ]
  },
  {
   "cell_type": "code",
   "execution_count": 17,
   "id": "6db13556",
   "metadata": {},
   "outputs": [
    {
     "name": "stdout",
     "output_type": "stream",
     "text": [
      "0,35,70,"
     ]
    }
   ],
   "source": [
    "def num_div(n):\n",
    "    try:\n",
    "        for i in range (0,n+1):\n",
    "            if (i%5==0 and i%7==0):\n",
    "                yield i\n",
    "    except Exception as e:\n",
    "        print(e)\n",
    "for j in num_div(100):\n",
    "            print(j,end=',')"
   ]
  },
  {
   "cell_type": "markdown",
   "id": "1d8600f2",
   "metadata": {},
   "source": [
    "**Question 2:**\n",
    "\n",
    "**Please write a program using generator to print the even numbers between 0 and n in comma\n",
    "separated form while n is input by console.**\n",
    "\n",
    "**Example:**\n",
    "\n",
    "**If the following n is given as input to the program:**\n",
    "\n",
    "**10**\n",
    "\n",
    "**Then, the output of the program should be:**\n",
    "\n",
    "**0,2,4,6,8,10**"
   ]
  },
  {
   "cell_type": "code",
   "execution_count": 18,
   "id": "ef455d7e",
   "metadata": {},
   "outputs": [
    {
     "name": "stdout",
     "output_type": "stream",
     "text": [
      "0,2,4,6,8,10,"
     ]
    }
   ],
   "source": [
    "def even_num(n):\n",
    "    try:\n",
    "        for i in range(0,n+1):\n",
    "            if i%2==0:\n",
    "                yield i\n",
    "    except Exception as e:\n",
    "        print(e)\n",
    "for j in even_num(10):\n",
    "    print(j,end=',')"
   ]
  },
  {
   "cell_type": "markdown",
   "id": "40b8c108",
   "metadata": {},
   "source": [
    "**Question 3:**\n",
    "\n",
    "**The Fibonacci Sequence is computed based on the following formula:**\n",
    "\n",
    "**f(n)=0 if n=0**\n",
    "\n",
    "**f(n)=1 if n=1**\n",
    "\n",
    "**f(n)=f(n-1)+f(n-2) if n&gt;1**\n",
    "\n",
    "**Please write a program using list comprehension to print the Fibonacci Sequence in comma\n",
    "separated form with a given n input by console.**\n",
    "\n",
    "**Example:**\n",
    "\n",
    "**If the following n is given as input to the program:**\n",
    "\n",
    "**7**\n",
    "\n",
    "**Then, the output of the program should be:**\n",
    "\n",
    "**0,1,1,2,3,5,8,13**\n"
   ]
  },
  {
   "cell_type": "code",
   "execution_count": 20,
   "id": "74954ce4",
   "metadata": {},
   "outputs": [
    {
     "name": "stdout",
     "output_type": "stream",
     "text": [
      "Enter the length of n \n",
      "7\n",
      "0,1,1,2,3,5,8\n"
     ]
    }
   ],
   "source": [
    "def fibonacci(n):\n",
    "    if n==0:\n",
    "        return 0\n",
    "    elif n==1:\n",
    "        \n",
    "        return 1\n",
    "    else:\n",
    "        return fibonacci(n-1)+fibonacci(n-2)\n",
    "    \n",
    "num = int(input(\"Enter the length of n \\n\"))\n",
    "fib_seq = [str(fibonacci(i)) for i in range (num)]\n",
    "print(','.join(fib_seq))"
   ]
  },
  {
   "cell_type": "markdown",
   "id": "5d26a280",
   "metadata": {},
   "source": [
    "**Question 4:**\n",
    "**Assuming that we have some email addresses in the '\"username@companyname.com\"' format, please write program to print the user name of a given email address. Both user names and company names are composed of letters only.**\n",
    "\n",
    "Example:\n",
    "\n",
    "If the following email address is given as input to the program:\n",
    "\n",
    "john@google.com\n",
    "\n",
    "Then, the output of the program should be:\n",
    "john"
   ]
  },
  {
   "cell_type": "code",
   "execution_count": 21,
   "id": "3c2c876e",
   "metadata": {},
   "outputs": [
    {
     "name": "stdout",
     "output_type": "stream",
     "text": [
      "john\n"
     ]
    }
   ],
   "source": [
    "def uname(email):\n",
    "    try:\n",
    "        print(email.split(\"@\")[0])\n",
    "    except Exception as e:\n",
    "        print(e)\n",
    "uname(\"john@google.com\")\n",
    "    \n",
    "    "
   ]
  },
  {
   "cell_type": "markdown",
   "id": "7b10c3cf",
   "metadata": {},
   "source": [
    "**Question 5: Define a class named Shape and its subclass Square. The Square class has an init function which takes a length as argument. Both classes have a area function which can print the area of the shape where Shape's area is 0 by default.**"
   ]
  },
  {
   "cell_type": "code",
   "execution_count": 22,
   "id": "6bab2caa",
   "metadata": {},
   "outputs": [
    {
     "data": {
      "text/plain": [
       "100"
      ]
     },
     "execution_count": 22,
     "metadata": {},
     "output_type": "execute_result"
    }
   ],
   "source": [
    "class shape:\n",
    "    def __init__(self):\n",
    "        pass\n",
    "    def area(self):\n",
    "        return 0\n",
    "class square(shape):\n",
    "    def __init__(self,length = 0):\n",
    "        shape.__init__ (self)\n",
    "        self.length  = length\n",
    "    def area(self):\n",
    "        return self.length*self.length\n",
    "a = square(10)\n",
    "a.area()"
   ]
  },
  {
   "cell_type": "code",
   "execution_count": 23,
   "id": "0a0fa770",
   "metadata": {},
   "outputs": [
    {
     "data": {
      "text/plain": [
       "0"
      ]
     },
     "execution_count": 23,
     "metadata": {},
     "output_type": "execute_result"
    }
   ],
   "source": [
    "square().area()"
   ]
  },
  {
   "cell_type": "code",
   "execution_count": null,
   "id": "528109c6",
   "metadata": {},
   "outputs": [],
   "source": []
  }
 ],
 "metadata": {
  "kernelspec": {
   "display_name": "Python 3",
   "language": "python",
   "name": "python3"
  },
  "language_info": {
   "codemirror_mode": {
    "name": "ipython",
    "version": 3
   },
   "file_extension": ".py",
   "mimetype": "text/x-python",
   "name": "python",
   "nbconvert_exporter": "python",
   "pygments_lexer": "ipython3",
   "version": "3.8.8"
  }
 },
 "nbformat": 4,
 "nbformat_minor": 5
}
