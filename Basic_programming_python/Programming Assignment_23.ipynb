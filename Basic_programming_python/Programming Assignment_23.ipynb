{
 "cells": [
  {
   "cell_type": "markdown",
   "id": "668843c5",
   "metadata": {},
   "source": [
    "## Question 1\n",
    "\n",
    "Create a function that takes a number as an argument and returns True or False depending\n",
    "on whether the number is symmetrical or not. A number is symmetrical when it is the same as\n",
    "its reverse.\n",
    "\n",
    "**Examples**\n",
    "\n",
    "is_symmetrical(7227) ➞ True\n",
    "\n",
    "is_symmetrical(12567) ➞ False\n",
    "\n",
    "is_symmetrical(44444444) ➞ True\n",
    "\n",
    "is_symmetrical(9939) ➞ False\n",
    "\n",
    "\n",
    "is_symmetrical(1112111) ➞ True"
   ]
  },
  {
   "cell_type": "code",
   "execution_count": 9,
   "id": "6aefe457",
   "metadata": {},
   "outputs": [],
   "source": [
    "def is_symmetrical(num):\n",
    "    try:\n",
    "        rem = num\n",
    "        curnum = revdigit = 0\n",
    "        while(rem != 0):\n",
    "\n",
    "            curnum = rem % 10\n",
    "\n",
    "            revdigit = revdigit * 10 + curnum\n",
    "            rem = rem // 10\n",
    "\n",
    "        if revdigit == num:\n",
    "            return True\n",
    "        else:\n",
    "            return False\n",
    "    except Exception as e:\n",
    "        print(e)"
   ]
  },
  {
   "cell_type": "code",
   "execution_count": 10,
   "id": "5d59ef7b",
   "metadata": {},
   "outputs": [
    {
     "name": "stdout",
     "output_type": "stream",
     "text": [
      "True\n"
     ]
    }
   ],
   "source": [
    "print(is_symmetrical(7227))"
   ]
  },
  {
   "cell_type": "code",
   "execution_count": 12,
   "id": "964833b8",
   "metadata": {},
   "outputs": [
    {
     "name": "stdout",
     "output_type": "stream",
     "text": [
      "False\n"
     ]
    }
   ],
   "source": [
    "print(is_symmetrical(12567))"
   ]
  },
  {
   "cell_type": "markdown",
   "id": "cf5c610e",
   "metadata": {},
   "source": [
    "## Question 2\n",
    "\n",
    "Given a string of numbers separated by a comma and space, return the product of the\n",
    "numbers.\n",
    "\n",
    "**Examples**\n",
    "\n",
    "multiply_nums('2, 3') ➞ 6\n",
    "\n",
    "multiply_nums('1, 2, 3, 4') ➞ 24\n",
    "\n",
    "multiply_nums('54, 75, 453, 0') ➞ 0\n",
    "\n",
    "multiply_nums('10, -2') ➞ -20"
   ]
  },
  {
   "cell_type": "code",
   "execution_count": 13,
   "id": "4f33a23a",
   "metadata": {},
   "outputs": [
    {
     "name": "stdout",
     "output_type": "stream",
     "text": [
      "6\n"
     ]
    }
   ],
   "source": [
    "def multiply_nums(snum):\n",
    "    try:\n",
    "        snum = snum.replace(' ', \"\")\n",
    "        snum = snum.split(',')\n",
    "        sum = 1\n",
    "        for i in snum:\n",
    "            sum = sum * int(i)\n",
    "        return sum\n",
    "    except Exception as e:\n",
    "        print(e)\n",
    "print(multiply_nums('2, 3'))"
   ]
  },
  {
   "cell_type": "code",
   "execution_count": 14,
   "id": "52f21207",
   "metadata": {},
   "outputs": [
    {
     "name": "stdout",
     "output_type": "stream",
     "text": [
      "24\n"
     ]
    }
   ],
   "source": [
    "print(multiply_nums('1, 2, 3, 4'))"
   ]
  },
  {
   "cell_type": "markdown",
   "id": "2ae11d19",
   "metadata": {},
   "source": [
    "## Question 3\n",
    "\n",
    "Create a function that squares every digit of a number.\n",
    "\n",
    "**Examples**\n",
    "\n",
    "square_digits(9119) ➞ 811181\n",
    "\n",
    "square_digits(2483) ➞ 416649\n",
    "\n",
    "square_digits(3212) ➞ 9414\n",
    "\n",
    "**Notes**\n",
    "\n",
    "The function receives an integer and must return an integer."
   ]
  },
  {
   "cell_type": "code",
   "execution_count": 15,
   "id": "4aca7abd",
   "metadata": {},
   "outputs": [
    {
     "name": "stdout",
     "output_type": "stream",
     "text": [
      "811181\n"
     ]
    }
   ],
   "source": [
    "def square_digits(num):\n",
    "    try:\n",
    "        z = ''.join(str(int(i)**2) for i in str(num))\n",
    "        return int(z)\n",
    "    except Exception as e:\n",
    "        print(e)\n",
    "print(square_digits(9119))"
   ]
  },
  {
   "cell_type": "code",
   "execution_count": 16,
   "id": "d6abe139",
   "metadata": {},
   "outputs": [
    {
     "name": "stdout",
     "output_type": "stream",
     "text": [
      "416649\n",
      "9414\n"
     ]
    }
   ],
   "source": [
    "print(square_digits(2483))\n",
    "print(square_digits(3212))"
   ]
  },
  {
   "cell_type": "markdown",
   "id": "5694053d",
   "metadata": {},
   "source": [
    "## Question 4\n",
    "\n",
    "Create a function that sorts a list and removes all duplicate items from it.\n",
    "\n",
    "**Examples**\n",
    "\n",
    "setify([1, 3, 3, 5, 5]) ➞ [1, 3, 5]\n",
    "\n",
    "setify([4, 4, 4, 4]) ➞ [4]\n",
    "\n",
    "setify([5, 7, 8, 9, 10, 15]) ➞ [5, 7, 8, 9, 10, 15]\n",
    "\n",
    "setify([3, 3, 3, 2, 1]) ➞ [1, 2, 3]"
   ]
  },
  {
   "cell_type": "code",
   "execution_count": 18,
   "id": "2924febc",
   "metadata": {},
   "outputs": [
    {
     "name": "stdout",
     "output_type": "stream",
     "text": [
      "[1, 3, 5]\n",
      "[4]\n"
     ]
    }
   ],
   "source": [
    "def setify(lst):\n",
    "    try:\n",
    "        return list(set(lst))\n",
    "    except Exception as e:\n",
    "        print(e)\n",
    "print(setify([1, 3, 3, 5, 5]))\n",
    "print(setify([4, 4, 4, 4]))"
   ]
  },
  {
   "cell_type": "markdown",
   "id": "fdaa5147",
   "metadata": {},
   "source": [
    "## Question 5\n",
    "Create a function that returns the mean of all digits.\n",
    "\n",
    "**Examples**\n",
    "\n",
    "mean(42) ➞ 3\n",
    "\n",
    "mean(12345) ➞ 3\n",
    "\n",
    "mean(666) ➞ 6\n",
    "\n",
    "**Notes**\n",
    "\n",
    " The mean of all digits is the sum of digits / how many digits there are (e.g. mean of digits in\n",
    "512 is (5+1+2)/3(number of digits) = 8/3=2).\n",
    "\n",
    " The mean will always be an integer."
   ]
  },
  {
   "cell_type": "code",
   "execution_count": 19,
   "id": "55e29bab",
   "metadata": {},
   "outputs": [
    {
     "name": "stdout",
     "output_type": "stream",
     "text": [
      "3\n"
     ]
    }
   ],
   "source": [
    "def mean(n):\n",
    "    try:\n",
    "        N = len(str(n)) \n",
    "        sum = mean = 0\n",
    "        for digit in str(n):\n",
    "            sum += int(digit)       \n",
    "        return int(sum/N)\n",
    "    except Exception as e:\n",
    "        print(e)\n",
    "print(mean(42))"
   ]
  },
  {
   "cell_type": "code",
   "execution_count": 20,
   "id": "ad7399c3",
   "metadata": {},
   "outputs": [
    {
     "name": "stdout",
     "output_type": "stream",
     "text": [
      "6\n"
     ]
    }
   ],
   "source": [
    "print(mean(666))"
   ]
  },
  {
   "cell_type": "code",
   "execution_count": null,
   "id": "98673847",
   "metadata": {},
   "outputs": [],
   "source": []
  }
 ],
 "metadata": {
  "kernelspec": {
   "display_name": "Python 3",
   "language": "python",
   "name": "python3"
  },
  "language_info": {
   "codemirror_mode": {
    "name": "ipython",
    "version": 3
   },
   "file_extension": ".py",
   "mimetype": "text/x-python",
   "name": "python",
   "nbconvert_exporter": "python",
   "pygments_lexer": "ipython3",
   "version": "3.8.8"
  }
 },
 "nbformat": 4,
 "nbformat_minor": 5
}
