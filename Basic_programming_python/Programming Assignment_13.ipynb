{
 "cells": [
  {
   "cell_type": "markdown",
   "id": "9ca91c23",
   "metadata": {},
   "source": [
    "**Question 1:**\n",
    "\n",
    "**Write a program that calculates and prints the value according to the given formula:\n",
    " Q = Square root of [(2 * C * D)/H]\n",
    "Following are the fixed values of C and H:\n",
    "C is 50. H is 30.\n",
    "D is the variable whose values should be input to your program in a comma-separated\n",
    "sequence.\n",
    "Example\n",
    "Let us assume the following comma separated input sequence is given to the program:\n",
    "100,150,180\n",
    "The output of the program should be:\n",
    "18,22,24**"
   ]
  },
  {
   "cell_type": "code",
   "execution_count": 5,
   "id": "08f7c1fb",
   "metadata": {},
   "outputs": [
    {
     "name": "stdout",
     "output_type": "stream",
     "text": [
      "Enter values:\n",
      "100,150,180\n",
      "Output:\n",
      "18,22,24,"
     ]
    }
   ],
   "source": [
    "import math\n",
    "def cal():\n",
    "    try:\n",
    "        D = [int(i) for i in input(\"Enter values:\\n\").split(',')]\n",
    "        C = 50\n",
    "        H = 30\n",
    "        E = []\n",
    "        for j in range(0,len(D)):\n",
    "            Q =math.sqrt((2*C*D[j])/H)\n",
    "            E.append(Q)\n",
    "        print(\"Output:\")\n",
    "        for k in range(0,len(E)):\n",
    "            print(int(E[k]), end = \",\")\n",
    "    except exceptions as e:\n",
    "        print(e)\n",
    "cal()"
   ]
  },
  {
   "cell_type": "markdown",
   "id": "89cef1bd",
   "metadata": {},
   "source": [
    "**Question 2:**\n",
    "\n",
    "***Write a program which takes 2 digits, X,Y as input and generates a 2-dimensional array. \n",
    "The element value in the i-th row and j-th column of the array should be i*j.\n",
    "**Note: i=0,1.., X-1; j=0,1,¡Y-1.**\n",
    "\n",
    "**Example\n",
    "Suppose the following inputs are given to the program:\n",
    "3,5\n",
    "Then, the output of the program should be:\n",
    "[[0, 0, 0, 0, 0], [0, 1, 2, 3, 4], [0, 2, 4, 6, 8]]**"
   ]
  },
  {
   "cell_type": "code",
   "execution_count": 18,
   "id": "5d561535",
   "metadata": {},
   "outputs": [
    {
     "name": "stdout",
     "output_type": "stream",
     "text": [
      "Enter the number of rows: 3\n",
      "Enter the number of columns: 5\n",
      "[[0, 0, 0, 0, 0], [0, 1, 2, 3, 4], [0, 2, 4, 6, 8]]\n"
     ]
    }
   ],
   "source": [
    "def q2():\n",
    "    try:\n",
    "        x = int(input(\"Enter the number of rows: \"))\n",
    "        y = int(input(\"Enter the number of columns: \"))\n",
    "        arr = []\n",
    "        for i in range (x):\n",
    "            row = []\n",
    "            for j in range (y):\n",
    "                row.append(i*j)\n",
    "            arr.append(row)\n",
    "        print(arr)\n",
    "    except exceptions as e:\n",
    "        print(e)\n",
    "q2()"
   ]
  },
  {
   "cell_type": "markdown",
   "id": "cde8fc01",
   "metadata": {},
   "source": [
    "**Question 3:\n",
    "Write a program that accepts a comma separated sequence of words as input and prints the\n",
    "words in a comma-separated sequence after sorting them alphabetically.**\n",
    "\n",
    "**Suppose the following input is supplied to the program:**\n",
    "\n",
    "**without,hello,bag,world**\n",
    "\n",
    "**Then, the output should be:**\n",
    "\n",
    "**bag,hello,without,world**"
   ]
  },
  {
   "cell_type": "code",
   "execution_count": 37,
   "id": "b5cd3d8a",
   "metadata": {},
   "outputs": [
    {
     "name": "stdout",
     "output_type": "stream",
     "text": [
      "Enter the words: \n",
      "without,hello,bag,world\n",
      "bag,hello,without,world,"
     ]
    }
   ],
   "source": [
    "def sort():\n",
    "    try:\n",
    "        string = [str(i) for i in input(\"Enter the words: \\n\").split(\",\")]\n",
    "        string.sort()\n",
    "        for j in string:\n",
    "            print(j, end=',')\n",
    "    except exceptions as e:\n",
    "        print(e)\n",
    "sort()"
   ]
  },
  {
   "cell_type": "markdown",
   "id": "39edf3a1",
   "metadata": {},
   "source": [
    "**Question 4:\n",
    "Write a program that accepts a sequence of whitespace separated words as input and prints\n",
    "the words after removing all duplicate words and sorting them alphanumerically.**\n",
    "\n",
    "**Suppose the following input is supplied to the program:**\n",
    "\n",
    "**hello world and practice makes perfect and hello world again**\n",
    "\n",
    "**Then, the output should be:**\n",
    "\n",
    "**again and hello makes perfect practice world**"
   ]
  },
  {
   "cell_type": "code",
   "execution_count": 29,
   "id": "91e9b5ce",
   "metadata": {},
   "outputs": [
    {
     "name": "stdout",
     "output_type": "stream",
     "text": [
      "Enter the words: \n",
      "hello world and practice makes perfect and hello world again\n",
      "The output is :\n",
      "again and hello makes perfect practice world "
     ]
    }
   ],
   "source": [
    "def q4():\n",
    "    try:\n",
    "        ip = [str(i) for i in input(\"Enter the words: \\n\").split(\" \")]\n",
    "        i = set(ip)\n",
    "        sort = sorted(i)\n",
    "        print(\"The output is :\")\n",
    "        for j in sort:\n",
    "            print(j,end=\" \")\n",
    "    except Exception as e:\n",
    "        print(e)\n",
    "q4()"
   ]
  },
  {
   "cell_type": "markdown",
   "id": "f0179eee",
   "metadata": {},
   "source": [
    "**Question 5:**\n",
    "\n",
    "**Write a program that accepts a sentence and calculate the number of letters and digits.\n",
    "Suppose the following input is supplied to the program:**\n",
    "\n",
    "**hello world! 123**\n",
    "\n",
    "**Then, the output should be:**\n",
    "\n",
    "**LETTERS 10** \n",
    "\n",
    "**DIGITS 3**"
   ]
  },
  {
   "cell_type": "code",
   "execution_count": 32,
   "id": "5701215c",
   "metadata": {},
   "outputs": [
    {
     "name": "stdout",
     "output_type": "stream",
     "text": [
      "Enter a Sentence: \n",
      "hello world! 123\n",
      "LETTERS 10 DIGITS 3\n"
     ]
    }
   ],
   "source": [
    "def count():\n",
    "    try:\n",
    "        ip = str(input(\"Enter a Sentence: \\n\"))\n",
    "        letters = 0\n",
    "        digits = 0\n",
    "        for i in ip:\n",
    "            if i.isalpha():\n",
    "                letters = letters+1\n",
    "            elif i.isnumeric():\n",
    "                digits = digits+1\n",
    "            else:\n",
    "                pass\n",
    "        print(\"LETTERS {} DIGITS {}\".format(letters,digits))\n",
    "    except Exception as e:\n",
    "        print(e)\n",
    "count()\n",
    "        \n",
    "\n",
    "        \n",
    "        "
   ]
  },
  {
   "cell_type": "markdown",
   "id": "3a46c694",
   "metadata": {},
   "source": [
    "**Question 6:**\n",
    "\n",
    "**A website requires the users to input username and password to register. Write a program to\n",
    "check the validity of password input by users.\n",
    "Following are the criteria for checking the password:**\n",
    "\n",
    "**1. At least 1 letter between [a-z]**\n",
    "\n",
    "**2. At least 1 number between [0-9]**\n",
    "\n",
    "**3. At least 1 letter between [A-Z]**\n",
    "\n",
    "**4. At least 1 character from [$#@]**\n",
    "\n",
    "**5. Minimum length of transaction password: 6**\n",
    "\n",
    "**6. Maximum length of transaction password: 12**\n",
    "\n",
    "**Your program should accept a sequence of comma separated passwords and will check them\n",
    "according to the above criteria. Passwords that match the criteria are to be printed, each\n",
    "separated by a comma.**\n",
    "\n",
    "**Example**\n",
    "\n",
    "**If the following passwords are given as input to the program:**\n",
    "\n",
    "**ABd1234@1,a F1#,2w3E*,2We3345**\n",
    "\n",
    "**Then, the output of the program should be:**\n",
    "\n",
    "**ABd1234@1**"
   ]
  },
  {
   "cell_type": "code",
   "execution_count": 34,
   "id": "a0281fe4",
   "metadata": {},
   "outputs": [
    {
     "name": "stdout",
     "output_type": "stream",
     "text": [
      "Enter passwords:\n",
      "ABd1234@1,a F1#,2w3E*,2We3345\n",
      "\n",
      "Correct password is: \n",
      "ABd1234@1 "
     ]
    }
   ],
   "source": [
    "def password_check():\n",
    "    try:\n",
    "        password = [str(i) for i in input(\"Enter passwords:\\n\").split(\",\")]\n",
    "        spl_char = [\"$\",\"#\",\"@\"]\n",
    "        correctpass = []\n",
    "        for i in password:\n",
    "            if (i.isupper() or i.islower()):\n",
    "                continue\n",
    "            num = any(j.isdigit() for j in i)\n",
    "            if (not num):\n",
    "                continue\n",
    "            spl = any(j in spl_char for j in i)\n",
    "            if (not spl):\n",
    "                continue\n",
    "            if (len(i)<6 or len(i)>12):\n",
    "                continue\n",
    "\n",
    "            correctpass.append(i)\n",
    "        print()\n",
    "        print(\"Correct password is: \")\n",
    "        for k in correctpass:\n",
    "            print(k,end = \" \")\n",
    "    except Exception as e:\n",
    "        print(e)\n",
    "        \n",
    "\n",
    "password_check()"
   ]
  }
 ],
 "metadata": {
  "kernelspec": {
   "display_name": "Python 3",
   "language": "python",
   "name": "python3"
  },
  "language_info": {
   "codemirror_mode": {
    "name": "ipython",
    "version": 3
   },
   "file_extension": ".py",
   "mimetype": "text/x-python",
   "name": "python",
   "nbconvert_exporter": "python",
   "pygments_lexer": "ipython3",
   "version": "3.8.8"
  }
 },
 "nbformat": 4,
 "nbformat_minor": 5
}
