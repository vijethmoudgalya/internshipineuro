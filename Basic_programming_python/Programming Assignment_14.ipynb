{
 "cells": [
  {
   "cell_type": "markdown",
   "id": "e22a7518",
   "metadata": {},
   "source": [
    "**Question 1:Define a class with a generator which can iterate the numbers, which are divisible by 7, between a given range 0 and n.**"
   ]
  },
  {
   "cell_type": "code",
   "execution_count": 2,
   "id": "b6fc67fc",
   "metadata": {},
   "outputs": [
    {
     "name": "stdout",
     "output_type": "stream",
     "text": [
      "7\n",
      "14\n",
      "21\n",
      "28\n",
      "35\n",
      "42\n",
      "49\n",
      "56\n",
      "63\n",
      "70\n",
      "77\n",
      "84\n",
      "91\n",
      "98\n"
     ]
    }
   ],
   "source": [
    "class itrate:\n",
    "    def __init__(self,n):\n",
    "        self.n = n\n",
    "        \n",
    "    def division(self):\n",
    "        try:\n",
    "            for i in range (0,self.n):\n",
    "                if  (i%7==0 and i>0):\n",
    "                    print(i)\n",
    "        except Exception as e:\n",
    "            print(e)\n",
    "            \n",
    "itr8 = itrate(100)\n",
    "itr8.division()"
   ]
  },
  {
   "cell_type": "markdown",
   "id": "a2438b4e",
   "metadata": {},
   "source": [
    "***Question 2: Write a program to compute the frequency of the words from the input. The outputshould output after sorting the key alphanumerically.***\n",
    "\n",
    "**Suppose the following input is supplied to the program:**\n",
    "\n",
    "**New to Python or choosing between Python 2 and Python 3? Read Python 2 or Python 3.**\n",
    "\n",
    "**Then, the output should be:**\n",
    "\n",
    "**2:2**\n",
    "\n",
    "**3.:1**\n",
    "\n",
    "**3?:1**\n",
    "\n",
    "**New:1**\n",
    "\n",
    "**Python:5**\n",
    "\n",
    "**Read:1**\n",
    "\n",
    "**and:1**\n",
    "\n",
    "**between:1**\n",
    "\n",
    "**choosing:1**\n",
    "\n",
    "**or:2**\n",
    "\n",
    "**to:1**\n"
   ]
  },
  {
   "cell_type": "code",
   "execution_count": 6,
   "id": "627aebf6",
   "metadata": {},
   "outputs": [
    {
     "name": "stdout",
     "output_type": "stream",
     "text": [
      "Enter the string: \n",
      "New to Python or choosing between Python 2 and Python 3? Read Python 2 or Python 3\n",
      "2:2\n",
      "3:1\n",
      "3?:1\n",
      "New:1\n",
      "Python:5\n",
      "Read:1\n",
      "and:1\n",
      "between:1\n",
      "choosing:1\n",
      "or:2\n",
      "to:1\n"
     ]
    }
   ],
   "source": [
    "def freq():\n",
    "    try:\n",
    "        ipstring = str(input(\"Enter the string: \\n\")).split()\n",
    "        frequencey = sorted(set(ipstring))\n",
    "\n",
    "        for i in frequencey:\n",
    "            print(\"{}:{}\".format(i,ipstring.count(i)))\n",
    "    except Exception as e:\n",
    "        print(e)\n",
    "freq()"
   ]
  },
  {
   "cell_type": "markdown",
   "id": "c8aef8e0",
   "metadata": {},
   "source": [
    "**Question 3: Define a class Person and its two child classes: Male and Female. All classes have a method \"getGender\" which can print \"Male\" for Male class and \"Female\" for Female class.**"
   ]
  },
  {
   "cell_type": "code",
   "execution_count": 7,
   "id": "3e2d2839",
   "metadata": {},
   "outputs": [
    {
     "name": "stdout",
     "output_type": "stream",
     "text": [
      "Male\n",
      "Feamle\n"
     ]
    }
   ],
   "source": [
    "class person:\n",
    "    def getGender(self):\n",
    "        pass\n",
    "    \n",
    "class male(person):\n",
    "    def getGender(self):\n",
    "        return \"Male\"\n",
    "    \n",
    "class female(person):\n",
    "    def getGender(self):\n",
    "        return \"Feamle\"\n",
    "m = male()\n",
    "print(m.getGender())\n",
    "f = female()\n",
    "print(f.getGender())\n"
   ]
  },
  {
   "cell_type": "markdown",
   "id": "8896de24",
   "metadata": {},
   "source": [
    "**Question 4: Please write a program to generate all sentences where subject is in [\"I\", \"You\"] and verb is in [\"Play\", \"Love\"] and the object is in [\"Hockey\",\"Football\"].**"
   ]
  },
  {
   "cell_type": "code",
   "execution_count": 8,
   "id": "1e01765a",
   "metadata": {},
   "outputs": [
    {
     "name": "stdout",
     "output_type": "stream",
     "text": [
      "I Play Hockey\n",
      "I Play Football\n",
      "I Love Hockey\n",
      "I Love Football\n",
      "You Play Hockey\n",
      "You Play Football\n",
      "You Love Hockey\n",
      "You Love Football\n"
     ]
    }
   ],
   "source": [
    "def generate():\n",
    "    try:\n",
    "        subject = [\"I\", \"You\"]\n",
    "        verb = [\"Play\", \"Love\"]\n",
    "        objects = [\"Hockey\",\"Football\"]\n",
    "\n",
    "        for i in subject:\n",
    "            for j in verb:\n",
    "                for k in objects:\n",
    "                    print(\"{} {} {}\".format(i,j,k))\n",
    "    except Exception as e:\n",
    "        print(e)\n",
    "generate()"
   ]
  },
  {
   "cell_type": "markdown",
   "id": "58749688",
   "metadata": {},
   "source": [
    "**Question 5: Please write a program to compress and decompress the string \"hello world!hello world!hello world!hello world!\".**"
   ]
  },
  {
   "cell_type": "code",
   "execution_count": 15,
   "id": "e7135ddb",
   "metadata": {},
   "outputs": [
    {
     "name": "stdout",
     "output_type": "stream",
     "text": [
      "b'x\\x9c\\xcbH\\xcd\\xc9\\xc9W(\\xcf/\\xcaIQ\\xcc \\x82\\r\\x00\\xbd[\\x11\\xf5'\n",
      "b'hello world!hello world!hello world!hello world!'\n"
     ]
    }
   ],
   "source": [
    "import zlib\n",
    "def compress_and_decompress(string):\n",
    "    try:\n",
    "        estring = string.encode()\n",
    "        com = zlib.compress(estring)\n",
    "        print(com)\n",
    "        print(zlib.decompress(com))\n",
    "    except Exception as e:\n",
    "              print(e)\n",
    "string = 'hello world!hello world!hello world!hello world!'\n",
    "compress_and_decompress(string)"
   ]
  },
  {
   "cell_type": "markdown",
   "id": "e4655880",
   "metadata": {},
   "source": [
    "**Question 6: Please write a binary search function which searches an item in a sorted list. The function should return the index of element to be searched in the list.**"
   ]
  },
  {
   "cell_type": "code",
   "execution_count": 18,
   "id": "2b126bd9",
   "metadata": {},
   "outputs": [
    {
     "name": "stdout",
     "output_type": "stream",
     "text": [
      "[1, 2, 3, 4, 6, 7, 8]\n",
      "1\n"
     ]
    }
   ],
   "source": [
    "def binary_search(l,n):\n",
    "    l.sort()\n",
    "    print(l)\n",
    "    low = 0\n",
    "    high = len(l)-1\n",
    "\n",
    "    \n",
    "    while low<=high:\n",
    "        mid = (low+high)//2\n",
    "        \n",
    "        if l[mid]<n:\n",
    "            low = mid+1\n",
    "        elif l[mid]>n:\n",
    "            high = mid-1\n",
    "        else:\n",
    "            return mid\n",
    "    return \"element not in list\"\n",
    "lst = [1,2,3,6,4,7,8]\n",
    "print(binary_search(lst,2))"
   ]
  }
 ],
 "metadata": {
  "kernelspec": {
   "display_name": "Python 3",
   "language": "python",
   "name": "python3"
  },
  "language_info": {
   "codemirror_mode": {
    "name": "ipython",
    "version": 3
   },
   "file_extension": ".py",
   "mimetype": "text/x-python",
   "name": "python",
   "nbconvert_exporter": "python",
   "pygments_lexer": "ipython3",
   "version": "3.8.8"
  }
 },
 "nbformat": 4,
 "nbformat_minor": 5
}
