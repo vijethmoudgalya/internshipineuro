{
 "cells": [
  {
   "cell_type": "markdown",
   "id": "11cb92d4",
   "metadata": {},
   "source": [
    "## 1. Write a Python program to find words which are greater than given length k?"
   ]
  },
  {
   "cell_type": "code",
   "execution_count": 13,
   "id": "5c704956",
   "metadata": {},
   "outputs": [
    {
     "name": "stdout",
     "output_type": "stream",
     "text": [
      "programming\n",
      "datascience\n"
     ]
    }
   ],
   "source": [
    "def wordlen(words,k):\n",
    "    try:\n",
    "        for i in words:\n",
    "            if (len(i) > k):\n",
    "                print(i)\n",
    "    except exceptions as e:\n",
    "        print(e)\n",
    "lis = [\"i\",\"like\",\"programming\",\"and\",\"datascience\"]\n",
    "wordlen(lis,5)"
   ]
  },
  {
   "cell_type": "markdown",
   "id": "f2f9fc34",
   "metadata": {},
   "source": [
    "## 2. Write a Python program for removing i-th character from a string?"
   ]
  },
  {
   "cell_type": "code",
   "execution_count": 6,
   "id": "b7d214e7",
   "metadata": {},
   "outputs": [
    {
     "name": "stdout",
     "output_type": "stream",
     "text": [
      "helo my name is vijeth\n"
     ]
    }
   ],
   "source": [
    "def rem_chr(string,i): \n",
    "    for j in range (len(string)):\n",
    "        if j==i:\n",
    "            string = string.replace(string[i],'',1)\n",
    "            return string\n",
    "string = \"hello my name is vijeth\"\n",
    "print(rem_chr(string,3))\n",
    "    "
   ]
  },
  {
   "cell_type": "markdown",
   "id": "8d203d72",
   "metadata": {},
   "source": [
    "## 3. Write a Python program to split and join a string?"
   ]
  },
  {
   "cell_type": "code",
   "execution_count": 85,
   "id": "d47f12b8",
   "metadata": {},
   "outputs": [
    {
     "name": "stdout",
     "output_type": "stream",
     "text": [
      "hello my name is vijeth and i like datascience\n",
      "The split sting is ['hello', 'my', 'name', 'is', 'vijeth']\n"
     ]
    }
   ],
   "source": [
    "def split(string):\n",
    "    a = string.split (' ')\n",
    "    print(\"The split sting is {}\".format(a))\n",
    "def join_str(string1,string2):\n",
    "    b = ' '.join([string1,string2])\n",
    "    print(b)\n",
    "string1 = \"hello my name is vijeth\"\n",
    "string2 = \"and i like datascience\"\n",
    "join_str(string1,string2)\n",
    "split(string1)"
   ]
  },
  {
   "cell_type": "markdown",
   "id": "78435ccb",
   "metadata": {},
   "source": [
    "## 4. Write a Python to check if a given string is binary string or not?"
   ]
  },
  {
   "cell_type": "code",
   "execution_count": 98,
   "id": "1a6e75c7",
   "metadata": {
    "scrolled": true
   },
   "outputs": [
    {
     "name": "stdout",
     "output_type": "stream",
     "text": [
      "Not a Binary String\n"
     ]
    }
   ],
   "source": [
    "string = \"0 00 1 1 \"\n",
    "strr = set(string)\n",
    "for i in strr:\n",
    "    if i=='0' and i=='1':\n",
    "        print(\"Binary String\")\n",
    "        break\n",
    "    else:\n",
    "        print(\"Not a Binary String\")\n",
    "        break"
   ]
  },
  {
   "cell_type": "markdown",
   "id": "023852cd",
   "metadata": {},
   "source": [
    "## 5. Write a Python program to find uncommon words from two Strings?"
   ]
  },
  {
   "cell_type": "code",
   "execution_count": 2,
   "id": "6740f63a",
   "metadata": {},
   "outputs": [
    {
     "data": {
      "text/plain": [
       "' mango kiwi'"
      ]
     },
     "execution_count": 2,
     "metadata": {},
     "output_type": "execute_result"
    }
   ],
   "source": [
    "def uncommon(a,b):\n",
    "    list_a = a.split()\n",
    "    list_b = b.split()\n",
    "    uc = ''\n",
    "    for i in list_a:\n",
    "        if i not in list_b:\n",
    "            uc = uc+\" \"+i\n",
    "    for j in list_b:\n",
    "        if j not in list_a:\n",
    "            uc = uc+\" \"+j\n",
    "  \n",
    "    return uc\n",
    "a = \"apple mango banana\"\n",
    "b = \"kiwi banana apple\"\n",
    "uncommon(a,b)"
   ]
  },
  {
   "cell_type": "markdown",
   "id": "ce9af3a2",
   "metadata": {},
   "source": [
    "## 6. Write a Python to find all duplicate characters in string?"
   ]
  },
  {
   "cell_type": "code",
   "execution_count": 12,
   "id": "0044f531",
   "metadata": {},
   "outputs": [
    {
     "name": "stdout",
     "output_type": "stream",
     "text": [
      "n\n"
     ]
    }
   ],
   "source": [
    "def duplicates(string):\n",
    "    try:\n",
    "## initializing a list to append all the duplicate characters\n",
    "        duplicates = []\n",
    "        for char in string:\n",
    "   ## checking whether the character have a duplicate or not\n",
    "   ## str.count(char) returns the frequency of a char in the str\n",
    "            if string.count(char) > 1:\n",
    "   ## appending to the list if it's already not present\n",
    "                if char not in duplicates:\n",
    "                    duplicates.append(char)\n",
    "        print(*duplicates)\n",
    "    except exceptions as e:\n",
    "        print(e)\n",
    "string = \"ineuron\"\n",
    "duplicates(string)"
   ]
  },
  {
   "cell_type": "markdown",
   "id": "450d2a6c",
   "metadata": {},
   "source": [
    "## 7. Write a Python Program to check if a string contains any special character?"
   ]
  },
  {
   "cell_type": "code",
   "execution_count": 18,
   "id": "cd7380aa",
   "metadata": {},
   "outputs": [
    {
     "name": "stdout",
     "output_type": "stream",
     "text": [
      "Enter any string: hello  how are you?\n",
      "The string contains special characters.\n"
     ]
    }
   ],
   "source": [
    "import re\n",
    "\n",
    "def check():\n",
    "    try:\n",
    "        \n",
    "        # take inputs\n",
    "        string = input('Enter any string: ')\n",
    " \n",
    "        # special characters\n",
    "        special_char = re.compile('[@_!#$%^&*()<>?/\\|}{~:]')\n",
    "\n",
    "        # check string contains special characters or not\n",
    "        if(special_char.search(string) == None):\n",
    "            print('String does not contain any special characters.')\n",
    "        else:\n",
    "            print('The string contains special characters.')\n",
    "    except exceptions as e:\n",
    "        print(e)\n",
    "check()"
   ]
  }
 ],
 "metadata": {
  "kernelspec": {
   "display_name": "Python 3",
   "language": "python",
   "name": "python3"
  },
  "language_info": {
   "codemirror_mode": {
    "name": "ipython",
    "version": 3
   },
   "file_extension": ".py",
   "mimetype": "text/x-python",
   "name": "python",
   "nbconvert_exporter": "python",
   "pygments_lexer": "ipython3",
   "version": "3.8.8"
  }
 },
 "nbformat": 4,
 "nbformat_minor": 5
}
