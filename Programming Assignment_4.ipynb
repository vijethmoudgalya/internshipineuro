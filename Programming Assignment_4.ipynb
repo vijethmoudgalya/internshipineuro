{
 "cells": [
  {
   "cell_type": "markdown",
   "metadata": {},
   "source": [
    "## 1. Write a Python Program to Find the Factorial of a Number?"
   ]
  },
  {
   "cell_type": "code",
   "execution_count": 52,
   "metadata": {},
   "outputs": [
    {
     "name": "stdout",
     "output_type": "stream",
     "text": [
      "Enter the number :7\n",
      "The factorial of 7 is 5040\n"
     ]
    }
   ],
   "source": [
    "num=int(input(\"Enter the number :\"))\n",
    "factorial=1\n",
    "\n",
    "for i in range(1,num + 1):\n",
    "    factorial = factorial*i\n",
    "    if num <=1:\n",
    "        print(\"Factorial is zero\")\n",
    "        break\n",
    "print(\"The factorial of\",num,\"is\",factorial)"
   ]
  },
  {
   "cell_type": "markdown",
   "metadata": {},
   "source": [
    "## 2. Write a Python Program to Display the multiplication Table?"
   ]
  },
  {
   "cell_type": "code",
   "execution_count": 57,
   "metadata": {},
   "outputs": [
    {
     "name": "stdout",
     "output_type": "stream",
     "text": [
      "Enter the number :8\n",
      "8 X 0 = 0\n",
      "8 X 1 = 8\n",
      "8 X 2 = 16\n",
      "8 X 3 = 24\n",
      "8 X 4 = 32\n",
      "8 X 5 = 40\n",
      "8 X 6 = 48\n",
      "8 X 7 = 56\n",
      "8 X 8 = 64\n",
      "8 X 9 = 72\n",
      "8 X 10 = 80\n"
     ]
    }
   ],
   "source": [
    "num=int(input(\"Enter the number :\"))\n",
    "count=0\n",
    "for i in range (0,10+1):\n",
    "    print(\"{} X {} = {}\".format(num,count,num*count))\n",
    "    count+=1\n",
    "    "
   ]
  },
  {
   "cell_type": "markdown",
   "metadata": {},
   "source": [
    "## 3. Write a Python Program to Print the Fibonacci sequence?"
   ]
  },
  {
   "cell_type": "code",
   "execution_count": 75,
   "metadata": {},
   "outputs": [
    {
     "name": "stdout",
     "output_type": "stream",
     "text": [
      "Enter the number :5\n",
      "0\n"
     ]
    }
   ],
   "source": [
    "num=int(input(\"Enter the number :\"))\n",
    "n1=0\n",
    "n2=1\n",
    "count=0\n",
    "for i in range (1,num+1):\n",
    "    if count<num:\n",
    "        print(n1)\n",
    "        n3=n1+n2\n",
    "        n1=n2\n",
    "        n2=n3\n",
    "        count+=1\n",
    "    break"
   ]
  },
  {
   "cell_type": "markdown",
   "metadata": {},
   "source": [
    "## 4. Write a Python Program to Check Armstrong Number?"
   ]
  },
  {
   "cell_type": "code",
   "execution_count": 12,
   "metadata": {},
   "outputs": [
    {
     "name": "stdout",
     "output_type": "stream",
     "text": [
      "Enter the number :153\n",
      "AMSTRONG\n"
     ]
    }
   ],
   "source": [
    "num=int(input(\"Enter the number :\"))\n",
    "sums=0\n",
    "temp=num\n",
    "while temp>0:\n",
    "    digit=temp%10\n",
    "    sums+=digit**3\n",
    "    temp//=10\n",
    "if num==sums:\n",
    "    print(\"AMSTRONG\")\n",
    "else:\n",
    "    print(\"NOT AMSTRONG\")\n"
   ]
  },
  {
   "cell_type": "markdown",
   "metadata": {},
   "source": [
    "## 5. Write a Python Program to Find Armstrong Number in an Interval?"
   ]
  },
  {
   "cell_type": "code",
   "execution_count": 24,
   "metadata": {},
   "outputs": [
    {
     "name": "stdout",
     "output_type": "stream",
     "text": [
      "150 is NOT AMSTRONG\n",
      "151 is NOT AMSTRONG\n",
      "152 is NOT AMSTRONG\n",
      "153 is AMSTRONG\n",
      "154 is NOT AMSTRONG\n",
      "155 is NOT AMSTRONG\n",
      "156 is NOT AMSTRONG\n",
      "157 is NOT AMSTRONG\n",
      "158 is NOT AMSTRONG\n",
      "159 is NOT AMSTRONG\n"
     ]
    }
   ],
   "source": [
    "def amstrong():\n",
    "    sums=0\n",
    "    temp=num\n",
    "    for i in range (150,160):\n",
    "        while temp>0:\n",
    "            digit=temp%10\n",
    "            sums+=digit**3\n",
    "            temp//=10\n",
    "        if i==sums:\n",
    "            print(\"{} is AMSTRONG\".format(i))\n",
    "        else:\n",
    "            print(\"{} is NOT AMSTRONG\".format(i))\n",
    "amstrong()     "
   ]
  },
  {
   "cell_type": "markdown",
   "metadata": {},
   "source": [
    "## 6. Write a Python Program to Find the Sum of Natural Numbers?"
   ]
  },
  {
   "cell_type": "code",
   "execution_count": 2,
   "metadata": {},
   "outputs": [
    {
     "name": "stdout",
     "output_type": "stream",
     "text": [
      "Sum is 136\n"
     ]
    }
   ],
   "source": [
    "def sumnatural(num):\n",
    "    if (num<0):\n",
    "        print(\"Enter Postivie NUmber\")\n",
    "    else:\n",
    "        sum = 0\n",
    "        while (num>0):\n",
    "            sum += num\n",
    "            num-=1\n",
    "        print(\"Sum is {}\".format(sum))\n",
    "sumnatural(16)"
   ]
  }
 ],
 "metadata": {
  "kernelspec": {
   "display_name": "Python 3",
   "language": "python",
   "name": "python3"
  },
  "language_info": {
   "codemirror_mode": {
    "name": "ipython",
    "version": 3
   },
   "file_extension": ".py",
   "mimetype": "text/x-python",
   "name": "python",
   "nbconvert_exporter": "python",
   "pygments_lexer": "ipython3",
   "version": "3.8.8"
  }
 },
 "nbformat": 4,
 "nbformat_minor": 4
}
