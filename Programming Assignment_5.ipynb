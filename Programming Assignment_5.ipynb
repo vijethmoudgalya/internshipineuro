{
 "cells": [
  {
   "cell_type": "markdown",
   "metadata": {},
   "source": [
    "## 1. Write a Python Program to Find LCM?"
   ]
  },
  {
   "cell_type": "code",
   "execution_count": 3,
   "metadata": {},
   "outputs": [
    {
     "data": {
      "text/plain": [
       "6.0"
      ]
     },
     "execution_count": 3,
     "metadata": {},
     "output_type": "execute_result"
    }
   ],
   "source": [
    "def gcd(a,b):\n",
    "    if a==0:\n",
    "        return b\n",
    "    return gcd(b%a,a)\n",
    "def lcm(a,b):\n",
    "    return (a/gcd(a,b))*b\n",
    "lcm(3,6)\n"
   ]
  },
  {
   "cell_type": "markdown",
   "metadata": {},
   "source": [
    "## 2. Write a Python Program to Find HCF?"
   ]
  },
  {
   "cell_type": "code",
   "execution_count": 10,
   "metadata": {},
   "outputs": [
    {
     "data": {
      "text/plain": [
       "6"
      ]
     },
     "execution_count": 10,
     "metadata": {},
     "output_type": "execute_result"
    }
   ],
   "source": [
    "def comptehcf(a,b):\n",
    "    if a>b:\n",
    "        smaller=b\n",
    "    else:\n",
    "        smaller=a\n",
    "    for i in range (1,smaller+1):\n",
    "        if ((x%i==0) and (y%i==0)):\n",
    "            hcf=i\n",
    "    return hcf\n",
    "hcf(54,24)"
   ]
  },
  {
   "cell_type": "markdown",
   "metadata": {},
   "source": [
    "## 3. Write a Python Program to Convert Decimal to Binary, Octal and Hexadecimal?"
   ]
  },
  {
   "cell_type": "code",
   "execution_count": 16,
   "metadata": {},
   "outputs": [
    {
     "name": "stdout",
     "output_type": "stream",
     "text": [
      "Enter a decimal number: 25\n",
      "0b11001 In binary\n",
      "0o31 In Octal\n",
      "0x19 In Hexadecimal\n",
      "25 In Hexadecimal\n"
     ]
    }
   ],
   "source": [
    "dec = int(input(\"Enter a decimal number: \"))\n",
    "print(bin(dec),\"In binary\")\n",
    "print(oct(dec),\"In Octal\")\n",
    "print(hex(dec),\"In Hexadecimal\")"
   ]
  },
  {
   "cell_type": "markdown",
   "metadata": {},
   "source": [
    "## 4. Write a Python Program To Find ASCII value of a character?"
   ]
  },
  {
   "cell_type": "code",
   "execution_count": 24,
   "metadata": {},
   "outputs": [
    {
     "name": "stdout",
     "output_type": "stream",
     "text": [
      "Enter Character: 32\n",
      "'32'\n"
     ]
    }
   ],
   "source": [
    "char =(input(\"Enter Character: \"))\n",
    "print(ascii(char))"
   ]
  },
  {
   "cell_type": "markdown",
   "metadata": {},
   "source": [
    "## 5. Write a Python Program to Make a Simple Calculator with 4 basic mathematical operations?"
   ]
  },
  {
   "cell_type": "code",
   "execution_count": 4,
   "metadata": {
    "scrolled": true
   },
   "outputs": [
    {
     "name": "stdout",
     "output_type": "stream",
     "text": [
      "Enter Operation: *\n",
      "Enter the Value of A : 6\n",
      "Enter the Value of B : 3\n"
     ]
    },
    {
     "data": {
      "text/plain": [
       "18"
      ]
     },
     "execution_count": 4,
     "metadata": {},
     "output_type": "execute_result"
    }
   ],
   "source": [
    "opr=(input(\"Enter Operation: \"))\n",
    "a = int(input(\"Enter the Value of A : \"))\n",
    "b = int(input(\"Enter the Value of B : \"))\n",
    "def calc(a,b):\n",
    "    res=0\n",
    "    if opr=='+':\n",
    "        res=a+b\n",
    "        return res\n",
    "    elif opr=='-':\n",
    "        res=a-b\n",
    "        return res\n",
    "    elif opr=='*':\n",
    "        res=a*b\n",
    "        return res\n",
    "    elif opr=='/':\n",
    "        res=a/b\n",
    "        return res\n",
    "    else:\n",
    "        print(\"Invalid Operation\")\n",
    "calc(a,b)\n",
    "        "
   ]
  }
 ],
 "metadata": {
  "kernelspec": {
   "display_name": "Python 3",
   "language": "python",
   "name": "python3"
  }
 },
 "nbformat": 4,
 "nbformat_minor": 4
}
