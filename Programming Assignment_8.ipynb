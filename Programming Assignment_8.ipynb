{
 "cells": [
  {
   "cell_type": "markdown",
   "id": "e11c446c",
   "metadata": {},
   "source": [
    "## 1. Write a Python Program to Add Two Matrices?"
   ]
  },
  {
   "cell_type": "code",
   "execution_count": 20,
   "id": "3d19b741",
   "metadata": {},
   "outputs": [
    {
     "name": "stdout",
     "output_type": "stream",
     "text": [
      "matrix 1 is\n",
      " [[ 93876440644572               0 140038331818048]\n",
      " [140038331820352 140038331821888 140038331820448]\n",
      " [140038331819968 140038331819728              80]]\n",
      "matrix 2 is\n",
      " [[ 93876430980402               0 140038331819536]\n",
      " [140038331821024 140038331818336 140038331821936]\n",
      " [140038331821312 140038331818240              80]]\n",
      "[[187752871624974               0 280076663637584]\n",
      " [280076663641376 280076663640224 280076663642384]\n",
      " [280076663641280 280076663637968             160]]\n"
     ]
    }
   ],
   "source": [
    "import numpy as np\n",
    "\n",
    "def add_mat(mat1,mat2):\n",
    "    try:\n",
    "        add = mat1 + mat2\n",
    "        print(\"matrix 1 is\\n {}\".format(mat1))\n",
    "        print(\"matrix 2 is\\n {}\".format(mat2))\n",
    "        print(add)\n",
    "    except exceptions as e:\n",
    "        print(e)\n",
    "mat1 = np.ndarray((3,3),dtype = int)\n",
    "mat2 = np.ndarray((3,3),dtype = int)\n",
    "add_mat(mat1,mat2)\n"
   ]
  },
  {
   "cell_type": "markdown",
   "id": "061885d3",
   "metadata": {},
   "source": [
    "## 2. Write a Python Program to Multiply Two Matrices?"
   ]
  },
  {
   "cell_type": "code",
   "execution_count": 24,
   "id": "0c3c68a6",
   "metadata": {},
   "outputs": [
    {
     "name": "stdout",
     "output_type": "stream",
     "text": [
      "[[14 20 40]\n",
      " [29 40 67]\n",
      " [42 58 98]]\n"
     ]
    }
   ],
   "source": [
    "import numpy as np\n",
    "\n",
    "def mat_mul(mat1,mat2):\n",
    "    try:\n",
    "        res = np.matmul(mat1,mat2)\n",
    "        print(res)\n",
    "    except exceptions as e:\n",
    "        print(e)\n",
    "mat1 = np.array(([3,2,1],[4,5,2],[6,7,3]),dtype = int)\n",
    "mat2 = np.array(([1,2,9],[3,4,5],[5,6,3]),dtype = int)\n",
    "mat_mul(mat1,mat2)\n"
   ]
  },
  {
   "cell_type": "markdown",
   "id": "3e407c47",
   "metadata": {},
   "source": [
    "## 3. Write a Python Program to Transpose a Matrix?"
   ]
  },
  {
   "cell_type": "code",
   "execution_count": 30,
   "id": "51905bc3",
   "metadata": {},
   "outputs": [
    {
     "name": "stdout",
     "output_type": "stream",
     "text": [
      "Before Transpose\n",
      " [[3 2 1]\n",
      " [4 5 2]\n",
      " [6 7 3]]\n",
      "\n",
      " After Transpose \n",
      " [[3 4 6]\n",
      " [2 5 7]\n",
      " [1 2 3]]\n"
     ]
    }
   ],
   "source": [
    "import numpy as np\n",
    "\n",
    "def mat_trs(mat):\n",
    "    try:\n",
    "        print(\"Before Transpose\\n {}\".format(mat))\n",
    "        res = np.transpose(mat)\n",
    "        print(\"\\n After Transpose \\n {}\".format(res))\n",
    "    except exceptions as e:\n",
    "        print(e)\n",
    "mat = np.array(([3,2,1],[4,5,2],[6,7,3]),dtype = int)\n",
    "mat_trs(mat)"
   ]
  },
  {
   "cell_type": "markdown",
   "id": "6e236125",
   "metadata": {},
   "source": [
    "## 4. Write a Python Program to Sort Words in Alphabetic Order?"
   ]
  },
  {
   "cell_type": "code",
   "execution_count": 30,
   "id": "b002baff",
   "metadata": {},
   "outputs": [
    {
     "name": "stdout",
     "output_type": "stream",
     "text": [
      "Original\n",
      "  My name is Arun and i like Data\n",
      "In Alpahbetical order\n",
      " Arun Data My and i is like name\n"
     ]
    }
   ],
   "source": [
    "import numpy  as np\n",
    "def word_sort(sent):\n",
    "    try:\n",
    "        print(\"Original\\n  {}\".format(sent))\n",
    "        res = sent.split()\n",
    "        temp = np.sort(res)\n",
    "        mod = ' '.join(temp)\n",
    "        print(\"In Alpahbetical order\\n {}\".format(mod))\n",
    "    except exceptions as e:\n",
    "        print(e)\n",
    "string = \"My name is Arun and i like Data\"\n",
    "word_sort(string)"
   ]
  },
  {
   "cell_type": "markdown",
   "id": "6a978660",
   "metadata": {},
   "source": [
    "## 5. Write a Python Program to Remove Punctuation From a String?"
   ]
  },
  {
   "cell_type": "code",
   "execution_count": 41,
   "id": "8697fed4",
   "metadata": {},
   "outputs": [
    {
     "name": "stdout",
     "output_type": "stream",
     "text": [
      "Before\n",
      "  My name is Arun and, i like Data!?\n",
      "After\n",
      " My name is Arun and i like Data\n"
     ]
    }
   ],
   "source": [
    "def rem_punc(sent):\n",
    "    try:\n",
    "        print(\"Before\\n  {}\".format(sent))\n",
    "        punc = '''!()-[]{};:'\"\\,<>./?@#$%^&*_~'''\n",
    "        for ele in sent:\n",
    "            if ele in punc:\n",
    "                sent = sent.replace(ele,'')\n",
    "        print(\"After\\n {}\".format(sent))\n",
    "    except exceptions as e:\n",
    "        print(e)\n",
    "sent = \"My name is Arun and, i like Data!?\"\n",
    "rem_punc(sent)"
   ]
  }
 ],
 "metadata": {
  "kernelspec": {
   "display_name": "Python 3",
   "language": "python",
   "name": "python3"
  },
  "language_info": {
   "codemirror_mode": {
    "name": "ipython",
    "version": 3
   },
   "file_extension": ".py",
   "mimetype": "text/x-python",
   "name": "python",
   "nbconvert_exporter": "python",
   "pygments_lexer": "ipython3",
   "version": "3.8.8"
  }
 },
 "nbformat": 4,
 "nbformat_minor": 5
}
